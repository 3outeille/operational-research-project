{
 "cells": [
  {
   "cell_type": "code",
   "execution_count": 1,
   "id": "dabd282e",
   "metadata": {},
   "outputs": [
    {
     "data": {
      "text/plain": [
       "'1.1.1'"
      ]
     },
     "execution_count": 1,
     "metadata": {},
     "output_type": "execute_result"
    }
   ],
   "source": [
    "import matplotlib.pyplot as plt\n",
    "import networkx as nx\n",
    "import osmnx as ox\n",
    "\n",
    "%matplotlib inline\n",
    "ox.config(log_console=True)\n",
    "ox.__version__"
   ]
  },
  {
   "cell_type": "markdown",
   "id": "fd59c61a",
   "metadata": {},
   "source": [
    "# I/ Map"
   ]
  },
  {
   "cell_type": "code",
   "execution_count": 2,
   "id": "6d095ab5",
   "metadata": {},
   "outputs": [
    {
     "data": {
      "image/png": "[encoded data removed]",
      "text/plain": [
       "<Figure size 576x576 with 1 Axes>"
      ]
     },
     "metadata": {},
     "output_type": "display_data"
    }
   ],
   "source": [
    "# define a point at the corner of California St and Mason St in SF\n",
    "location_point = (37.791427, -122.410018)\n",
    "\n",
    "# create network from point, inside bounding box of N, S, E, W each 100m from point\n",
    "MDG = ox.graph_from_point(location_point, dist=175, dist_type=\"bbox\", network_type=\"drive\")\n",
    "fig, ax = ox.plot_graph(MDG, node_color=\"white\", node_size=100)"
   ]
  },
  {
   "cell_type": "code",
   "execution_count": null,
   "id": "42809533",
   "metadata": {},
   "outputs": [],
   "source": []
  },
  {
   "cell_type": "markdown",
   "id": "48ebbb69",
   "metadata": {},
   "source": [
    "## A) Graph pre-processing"
   ]
  },
  {
   "cell_type": "markdown",
   "id": "3f05eb32",
   "metadata": {},
   "source": [
    "- [ ] Build regular graph representation from Osmnx graph.\n",
    "    - Convert osmnx node id to intgers\n",
    "    - Transform to MultiGraph\n",
    "- [ ] Make graph eulerian (Chinese postman)"
   ]
  },
  {
   "cell_type": "code",
   "execution_count": 3,
   "id": "d2b19f77",
   "metadata": {},
   "outputs": [],
   "source": [
    "MDG = nx.convert_node_labels_to_integers(MDG) # Use label to deal with node id \n",
    "MG = ox.utils_graph.get_undirected(MDG) # MultiDiGraph -> MultiGraph"
   ]
  },
  {
   "cell_type": "code",
   "execution_count": 19,
   "id": "56337bc1",
   "metadata": {},
   "outputs": [
    {
     "data": {
      "text/plain": [
       "[(0,\n",
       "  1,\n",
       "  {'osmid': 27166466,\n",
       "   'oneway': True,\n",
       "   'name': 'Mason Street',\n",
       "   'highway': 'residential',\n",
       "   'length': 107.41299999999998,\n",
       "   'geometry': <shapely.geometry.linestring.LineString at 0x7f0885fdb0b8>,\n",
       "   'from': 0,\n",
       "   'to': 1}),\n",
       " (0,\n",
       "  3,\n",
       "  {'osmid': 674757876,\n",
       "   'name': 'California Street',\n",
       "   'highway': 'tertiary',\n",
       "   'oneway': False,\n",
       "   'length': 142.02499999999998,\n",
       "   'geometry': <shapely.geometry.linestring.LineString at 0x7f0886097400>,\n",
       "   'from': 3,\n",
       "   'to': 0}),\n",
       " (1,\n",
       "  2,\n",
       "  {'osmid': 502795940,\n",
       "   'oneway': True,\n",
       "   'lanes': '2',\n",
       "   'name': 'Pine Street',\n",
       "   'highway': 'secondary',\n",
       "   'maxspeed': '30 mph',\n",
       "   'length': 141.957,\n",
       "   'geometry': <shapely.geometry.linestring.LineString at 0x7f0886097358>,\n",
       "   'from': 2,\n",
       "   'to': 1}),\n",
       " (2,\n",
       "  3,\n",
       "  {'osmid': 674757881,\n",
       "   'oneway': True,\n",
       "   'name': 'Powell Street',\n",
       "   'highway': 'tertiary',\n",
       "   'maxspeed': '25 mph',\n",
       "   'length': 107.72500000000001,\n",
       "   'geometry': <shapely.geometry.linestring.LineString at 0x7f0886097438>,\n",
       "   'from': 3,\n",
       "   'to': 2}),\n",
       " (2,\n",
       "  5,\n",
       "  {'osmid': 674757877,\n",
       "   'oneway': True,\n",
       "   'lanes': '2',\n",
       "   'name': 'Pine Street',\n",
       "   'highway': 'secondary',\n",
       "   'maxspeed': '30 mph',\n",
       "   'length': 8.222999999999999,\n",
       "   'geometry': <shapely.geometry.linestring.LineString at 0x7f0886097588>,\n",
       "   'from': 5,\n",
       "   'to': 2}),\n",
       " (3,\n",
       "  4,\n",
       "  {'osmid': 100400946,\n",
       "   'name': 'California Street',\n",
       "   'highway': 'tertiary',\n",
       "   'oneway': False,\n",
       "   'length': 8.228,\n",
       "   'geometry': <shapely.geometry.linestring.LineString at 0x7f08860974a8>,\n",
       "   'from': 4,\n",
       "   'to': 3}),\n",
       " (4,\n",
       "  5,\n",
       "  {'osmid': 674757885,\n",
       "   'oneway': True,\n",
       "   'name': 'Powell Street',\n",
       "   'highway': 'tertiary',\n",
       "   'maxspeed': '25 mph',\n",
       "   'length': 107.75699999999999,\n",
       "   'geometry': <shapely.geometry.linestring.LineString at 0x7f0886097518>,\n",
       "   'from': 5,\n",
       "   'to': 4})]"
      ]
     },
     "execution_count": 19,
     "metadata": {},
     "output_type": "execute_result"
    }
   ],
   "source": [
    "list(MG.edges(data=True))"
   ]
  },
  {
   "cell_type": "code",
   "execution_count": 17,
   "id": "94678de1",
   "metadata": {},
   "outputs": [],
   "source": [
    "class RegGraph:\n",
    "    \"\"\"\n",
    "        Build regular graph representation from Osmnx graph.\n",
    "    \"\"\"\n",
    "    \n",
    "    def __init__(self, G):\n",
    "        self.G = G\n",
    "        self.adjlist = self.create_adjlist(self.G)\n",
    "        self.adjmat = self.adjlist_to_adjmat(self.adjlist)\n",
    "        \n",
    "    def create_adjlist(self, G):\n",
    "        adjlist = []\n",
    "        for src, nbrdict in self.G.adjacency():\n",
    "            tmp = []\n",
    "            for dst in nbrdict:\n",
    "                print(src, dst)\n",
    "                print(nbrdict)\n",
    "                print(ox.utils_graph.get_route_edge_attributes(G, (src, dst)))\n",
    "                length = ox.utils_graph.get_route_edge_attributes(G, (src, dst), 'length')[0]\n",
    "                raise Exception(\"\")\n",
    "                tmp.append((dst, length))\n",
    "            adjlist.append((src, tmp))\n",
    "        return dict(adjlist)\n",
    "\n",
    "    def adjlist_to_adjmat(self, adjlist):\n",
    "        n = len(self.adjlist)\n",
    "        adjmat = [[0 for j in range(n)] for i in range(n)]\n",
    "        for src in range(n):\n",
    "            for dst, length in self.adjlist[src]:\n",
    "                adjmat[src][dst] = length\n",
    "        return adjmat\n",
    "\n",
    "    def pretty_print_adjmat(self):\n",
    "        n = len(self.adjmat)\n",
    "\n",
    "        print(\"  \",end=\"\")\n",
    "        for i in range(n):\n",
    "            print(\"{} \".format(i), end=\"\")\n",
    "\n",
    "        print()\n",
    "\n",
    "        for i in range(n):\n",
    "            print(\"{} \".format(i), end=\"\")\n",
    "            for j in range(n):\n",
    "                print(self.adjmat[i][j], end=\"|\")\n",
    "            print()"
   ]
  },
  {
   "cell_type": "code",
   "execution_count": 15,
   "id": "1783b2cf",
   "metadata": {},
   "outputs": [
    {
     "name": "stdout",
     "output_type": "stream",
     "text": [
      "0 1\n",
      "[(0, 1, {'osmid': 27166466, 'oneway': True, 'name': 'Mason Street', 'highway': 'residential', 'length': 107.41299999999998, 'geometry': <shapely.geometry.linestring.LineString object at 0x7f0885fdb0b8>, 'from': 0, 'to': 1}), (0, 3, {'osmid': 674757876, 'name': 'California Street', 'highway': 'tertiary', 'oneway': False, 'length': 142.02499999999998, 'geometry': <shapely.geometry.linestring.LineString object at 0x7f0886097400>, 'from': 3, 'to': 0}), (1, 2, {'osmid': 502795940, 'oneway': True, 'lanes': '2', 'name': 'Pine Street', 'highway': 'secondary', 'maxspeed': '30 mph', 'length': 141.957, 'geometry': <shapely.geometry.linestring.LineString object at 0x7f0886097358>, 'from': 2, 'to': 1}), (2, 3, {'osmid': 674757881, 'oneway': True, 'name': 'Powell Street', 'highway': 'tertiary', 'maxspeed': '25 mph', 'length': 107.72500000000001, 'geometry': <shapely.geometry.linestring.LineString object at 0x7f0886097438>, 'from': 3, 'to': 2}), (2, 5, {'osmid': 674757877, 'oneway': True, 'lanes': '2', 'name': 'Pine Street', 'highway': 'secondary', 'maxspeed': '30 mph', 'length': 8.222999999999999, 'geometry': <shapely.geometry.linestring.LineString object at 0x7f0886097588>, 'from': 5, 'to': 2}), (3, 4, {'osmid': 100400946, 'name': 'California Street', 'highway': 'tertiary', 'oneway': False, 'length': 8.228, 'geometry': <shapely.geometry.linestring.LineString object at 0x7f08860974a8>, 'from': 4, 'to': 3}), (4, 5, {'osmid': 674757885, 'oneway': True, 'name': 'Powell Street', 'highway': 'tertiary', 'maxspeed': '25 mph', 'length': 107.75699999999999, 'geometry': <shapely.geometry.linestring.LineString object at 0x7f0886097518>, 'from': 5, 'to': 4})]\n",
      "[{'osmid': 27166466, 'oneway': True, 'name': 'Mason Street', 'highway': 'residential', 'length': 107.41299999999998, 'geometry': <shapely.geometry.linestring.LineString object at 0x7f0885fdb0b8>, 'from': 0, 'to': 1}]\n"
     ]
    },
    {
     "ename": "Exception",
     "evalue": "",
     "output_type": "error",
     "traceback": [
      "\u001b[0;31m---------------------------------------------------------------------------\u001b[0m",
      "\u001b[0;31mException\u001b[0m                                 Traceback (most recent call last)",
      "\u001b[0;32m<ipython-input-15-60434174b230>\u001b[0m in \u001b[0;36m<module>\u001b[0;34m\u001b[0m\n\u001b[0;32m----> 1\u001b[0;31m \u001b[0mgraph\u001b[0m \u001b[0;34m=\u001b[0m \u001b[0mRegGraph\u001b[0m\u001b[0;34m(\u001b[0m\u001b[0mMG\u001b[0m\u001b[0;34m)\u001b[0m\u001b[0;34m\u001b[0m\u001b[0;34m\u001b[0m\u001b[0m\n\u001b[0m\u001b[1;32m      2\u001b[0m \u001b[0mprint\u001b[0m\u001b[0;34m(\u001b[0m\u001b[0mgraph\u001b[0m\u001b[0;34m.\u001b[0m\u001b[0madjlist\u001b[0m\u001b[0;34m)\u001b[0m\u001b[0;34m\u001b[0m\u001b[0;34m\u001b[0m\u001b[0m\n\u001b[1;32m      3\u001b[0m \u001b[0mprint\u001b[0m\u001b[0;34m(\u001b[0m\u001b[0;34m\"----\"\u001b[0m\u001b[0;34m)\u001b[0m\u001b[0;34m\u001b[0m\u001b[0;34m\u001b[0m\u001b[0m\n\u001b[1;32m      4\u001b[0m \u001b[0mgraph\u001b[0m\u001b[0;34m.\u001b[0m\u001b[0mpretty_print_adjmat\u001b[0m\u001b[0;34m(\u001b[0m\u001b[0;34m)\u001b[0m\u001b[0;34m\u001b[0m\u001b[0;34m\u001b[0m\u001b[0m\n",
      "\u001b[0;32m<ipython-input-14-8ff11ed51198>\u001b[0m in \u001b[0;36m__init__\u001b[0;34m(self, G)\u001b[0m\n\u001b[1;32m      6\u001b[0m     \u001b[0;32mdef\u001b[0m \u001b[0m__init__\u001b[0m\u001b[0;34m(\u001b[0m\u001b[0mself\u001b[0m\u001b[0;34m,\u001b[0m \u001b[0mG\u001b[0m\u001b[0;34m)\u001b[0m\u001b[0;34m:\u001b[0m\u001b[0;34m\u001b[0m\u001b[0;34m\u001b[0m\u001b[0m\n\u001b[1;32m      7\u001b[0m         \u001b[0mself\u001b[0m\u001b[0;34m.\u001b[0m\u001b[0mG\u001b[0m \u001b[0;34m=\u001b[0m \u001b[0mG\u001b[0m\u001b[0;34m\u001b[0m\u001b[0;34m\u001b[0m\u001b[0m\n\u001b[0;32m----> 8\u001b[0;31m         \u001b[0mself\u001b[0m\u001b[0;34m.\u001b[0m\u001b[0madjlist\u001b[0m \u001b[0;34m=\u001b[0m \u001b[0mself\u001b[0m\u001b[0;34m.\u001b[0m\u001b[0mcreate_adjlist\u001b[0m\u001b[0;34m(\u001b[0m\u001b[0mself\u001b[0m\u001b[0;34m.\u001b[0m\u001b[0mG\u001b[0m\u001b[0;34m)\u001b[0m\u001b[0;34m\u001b[0m\u001b[0;34m\u001b[0m\u001b[0m\n\u001b[0m\u001b[1;32m      9\u001b[0m         \u001b[0mself\u001b[0m\u001b[0;34m.\u001b[0m\u001b[0madjmat\u001b[0m \u001b[0;34m=\u001b[0m \u001b[0mself\u001b[0m\u001b[0;34m.\u001b[0m\u001b[0madjlist_to_adjmat\u001b[0m\u001b[0;34m(\u001b[0m\u001b[0mself\u001b[0m\u001b[0;34m.\u001b[0m\u001b[0madjlist\u001b[0m\u001b[0;34m)\u001b[0m\u001b[0;34m\u001b[0m\u001b[0;34m\u001b[0m\u001b[0m\n\u001b[1;32m     10\u001b[0m \u001b[0;34m\u001b[0m\u001b[0m\n",
      "\u001b[0;32m<ipython-input-14-8ff11ed51198>\u001b[0m in \u001b[0;36mcreate_adjlist\u001b[0;34m(self, G)\u001b[0m\n\u001b[1;32m     18\u001b[0m                 \u001b[0mprint\u001b[0m\u001b[0;34m(\u001b[0m\u001b[0mox\u001b[0m\u001b[0;34m.\u001b[0m\u001b[0mutils_graph\u001b[0m\u001b[0;34m.\u001b[0m\u001b[0mget_route_edge_attributes\u001b[0m\u001b[0;34m(\u001b[0m\u001b[0mG\u001b[0m\u001b[0;34m,\u001b[0m \u001b[0;34m(\u001b[0m\u001b[0msrc\u001b[0m\u001b[0;34m,\u001b[0m \u001b[0mdst\u001b[0m\u001b[0;34m)\u001b[0m\u001b[0;34m)\u001b[0m\u001b[0;34m)\u001b[0m\u001b[0;34m\u001b[0m\u001b[0;34m\u001b[0m\u001b[0m\n\u001b[1;32m     19\u001b[0m                 \u001b[0mlength\u001b[0m \u001b[0;34m=\u001b[0m \u001b[0mox\u001b[0m\u001b[0;34m.\u001b[0m\u001b[0mutils_graph\u001b[0m\u001b[0;34m.\u001b[0m\u001b[0mget_route_edge_attributes\u001b[0m\u001b[0;34m(\u001b[0m\u001b[0mG\u001b[0m\u001b[0;34m,\u001b[0m \u001b[0;34m(\u001b[0m\u001b[0msrc\u001b[0m\u001b[0;34m,\u001b[0m \u001b[0mdst\u001b[0m\u001b[0;34m)\u001b[0m\u001b[0;34m,\u001b[0m \u001b[0;34m'length'\u001b[0m\u001b[0;34m)\u001b[0m\u001b[0;34m[\u001b[0m\u001b[0;36m0\u001b[0m\u001b[0;34m]\u001b[0m\u001b[0;34m\u001b[0m\u001b[0;34m\u001b[0m\u001b[0m\n\u001b[0;32m---> 20\u001b[0;31m                 \u001b[0;32mraise\u001b[0m \u001b[0mException\u001b[0m\u001b[0;34m(\u001b[0m\u001b[0;34m\"\"\u001b[0m\u001b[0;34m)\u001b[0m\u001b[0;34m\u001b[0m\u001b[0;34m\u001b[0m\u001b[0m\n\u001b[0m\u001b[1;32m     21\u001b[0m                 \u001b[0mtmp\u001b[0m\u001b[0;34m.\u001b[0m\u001b[0mappend\u001b[0m\u001b[0;34m(\u001b[0m\u001b[0;34m(\u001b[0m\u001b[0mdst\u001b[0m\u001b[0;34m,\u001b[0m \u001b[0mlength\u001b[0m\u001b[0;34m)\u001b[0m\u001b[0;34m)\u001b[0m\u001b[0;34m\u001b[0m\u001b[0;34m\u001b[0m\u001b[0m\n\u001b[1;32m     22\u001b[0m             \u001b[0madjlist\u001b[0m\u001b[0;34m.\u001b[0m\u001b[0mappend\u001b[0m\u001b[0;34m(\u001b[0m\u001b[0;34m(\u001b[0m\u001b[0msrc\u001b[0m\u001b[0;34m,\u001b[0m \u001b[0mtmp\u001b[0m\u001b[0;34m)\u001b[0m\u001b[0;34m)\u001b[0m\u001b[0;34m\u001b[0m\u001b[0;34m\u001b[0m\u001b[0m\n",
      "\u001b[0;31mException\u001b[0m: "
     ]
    }
   ],
   "source": [
    "graph = RegGraph(MG)\n",
    "print(graph.adjlist)\n",
    "print(\"----\")\n",
    "graph.pretty_print_adjmat()"
   ]
  },
  {
   "cell_type": "markdown",
   "id": "a59f64c6",
   "metadata": {},
   "source": [
    "## B) Graph traversal"
   ]
  },
  {
   "cell_type": "markdown",
   "id": "1145d289",
   "metadata": {},
   "source": [
    "- [ ] `Dfs`"
   ]
  },
  {
   "cell_type": "code",
   "execution_count": 51,
   "id": "777e1b49",
   "metadata": {},
   "outputs": [
    {
     "name": "stdout",
     "output_type": "stream",
     "text": [
      "0 1\n",
      "1 0\n",
      "1 2\n",
      "2 1\n",
      "2 3\n",
      "3 0\n",
      "3 4\n",
      "4 3\n",
      "4 5\n",
      "5 2\n",
      "5 4\n",
      "3 2\n",
      "2 5\n",
      "0 3\n"
     ]
    }
   ],
   "source": [
    "def dfs(visited, graph, node):\n",
    "    if node not in visited:\n",
    "        visited.add(node)\n",
    "        for neighbour, length in graph[node]:\n",
    "            print(node, neighbour)\n",
    "            dfs(visited, graph, neighbour)\n",
    "            \n",
    "visited = set()\n",
    "dfs(visited, graph.adjlist, 0)"
   ]
  },
  {
   "cell_type": "code",
   "execution_count": 52,
   "id": "36008f4c",
   "metadata": {},
   "outputs": [
    {
     "data": {
      "text/plain": [
       "{0: [(1, 107.41299999999998), (3, 142.02499999999998)],\n",
       " 1: [(0, 107.41299999999998), (2, 141.957)],\n",
       " 2: [(1, 141.957), (3, 107.72500000000001), (5, 8.222999999999999)],\n",
       " 3: [(0, 142.02499999999998), (4, 8.228), (2, 107.72500000000001)],\n",
       " 4: [(3, 8.228), (5, 107.75699999999999)],\n",
       " 5: [(2, 8.222999999999999), (4, 107.75699999999999)]}"
      ]
     },
     "execution_count": 52,
     "metadata": {},
     "output_type": "execute_result"
    }
   ],
   "source": [
    "graph.adjlist"
   ]
  },
  {
   "cell_type": "markdown",
   "id": "454e07b4",
   "metadata": {},
   "source": [
    "- [ ] `find_eulerian_circuit()`"
   ]
  },
  {
   "cell_type": "code",
   "execution_count": 45,
   "id": "092af139",
   "metadata": {},
   "outputs": [
    {
     "name": "stdout",
     "output_type": "stream",
     "text": [
      "[3, 0, 1, 2, 3, 4, 5, 2]\n"
     ]
    }
   ],
   "source": [
    "def find_eulerian_circuit_aux(circuit, adjmat, start):\n",
    "    for i in range(len(adjmat)):\n",
    "        if adjmat[start][i] > 0:\n",
    "            adjmat[start][i] = 0\n",
    "            adjmat[i][start] = 0\n",
    "            find_eulerian_circuit_aux(circuit, adjmat, i)\n",
    "    circuit.append(start)\n",
    "    return circuit\n",
    "\n",
    "def find_eulerian_circuit(adjmat, start):\n",
    "    circuit = []\n",
    "    return find_eulerian_circuit_aux(circuit, adjmat, start)\n",
    "        \n",
    "circuit = find_eulerian_circuit(graph.adjmat, 3)\n",
    "print(circuit[::-1])"
   ]
  },
  {
   "cell_type": "markdown",
   "id": "e9d92f16",
   "metadata": {},
   "source": [
    "# II/ Benchmark"
   ]
  },
  {
   "cell_type": "markdown",
   "id": "ad304eba",
   "metadata": {},
   "source": [
    "# III/ Vizualisation"
   ]
  }
 ],
 "metadata": {
  "kernelspec": {
   "display_name": "ero-env",
   "language": "python",
   "name": "ero-env"
  },
  "language_info": {
   "codemirror_mode": {
    "name": "ipython",
    "version": 3
   },
   "file_extension": ".py",
   "mimetype": "text/x-python",
   "name": "python",
   "nbconvert_exporter": "python",
   "pygments_lexer": "ipython3",
   "version": "3.6.9"
  }
 },
 "nbformat": 4,
 "nbformat_minor": 5
}
