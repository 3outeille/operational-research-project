{
 "cells": [
  {
   "cell_type": "code",
   "execution_count": 1,
   "id": "b0575c7d",
   "metadata": {},
   "outputs": [
    {
     "data": {
      "text/plain": [
       "'1.1.0'"
      ]
     },
     "execution_count": 1,
     "metadata": {},
     "output_type": "execute_result"
    }
   ],
   "source": [
    "import networkx as nx\n",
    "import osmnx as ox\n",
    "\n",
    "%matplotlib inline\n",
    "ox.config(log_console=True)\n",
    "ox.__version__"
   ]
  },
  {
   "cell_type": "markdown",
   "id": "129160cb",
   "metadata": {},
   "source": [
    "# I/ Map"
   ]
  },
  {
   "cell_type": "code",
   "execution_count": 152,
   "id": "1355ab02",
   "metadata": {},
   "outputs": [
    {
     "data": {
      "image/png": "[encoded data removed]",
      "text/plain": [
       "<Figure size 576x576 with 1 Axes>"
      ]
     },
     "metadata": {},
     "output_type": "display_data"
    }
   ],
   "source": [
    "# define a point at the corner of California St and Mason St in SF\n",
    "location_point = (37.791427, -122.410018)\n",
    "\n",
    "# create network from point, inside bounding box of N, S, E, W each 100m from point\n",
    "G = ox.graph_from_point(location_point, dist=100, dist_type=\"bbox\", network_type=\"drive\")\n",
    "fig, ax = ox.plot_graph(G, node_color=\"r\")"
   ]
  },
  {
   "cell_type": "code",
   "execution_count": 156,
   "id": "14034300",
   "metadata": {},
   "outputs": [],
   "source": [
    "def osmnx_to_regular_graph(osmnx_graph, is_oriented=False):\n",
    "    \"\"\"\n",
    "        Convert osmnx graph to regular graph [(src, dest, length)]\n",
    "        Params:\n",
    "        Returns:\n",
    "    \"\"\"\n",
    "    if not is_oriented:\n",
    "        osmnx_graph = ox.utils_graph.get_undirected(osmnx_graph)\n",
    "        \n",
    "    osmnx_nodes = list(osmnx_graph.nodes)\n",
    "    edges = []\n",
    "    \n",
    "    for src, dest, _ in list(osmnx_graph.edges):\n",
    "        length = ox.utils_graph.get_route_edge_attributes(osmnx_graph,\n",
    "            (src, dest), 'length')[0]\n",
    "        edges.append((osmnx_nodes.index(src), osmnx_nodes.index(dest), length))\n",
    "        \n",
    "    return len(osmnx_nodes), edges"
   ]
  },
  {
   "cell_type": "code",
   "execution_count": 157,
   "id": "3251ae4d",
   "metadata": {},
   "outputs": [],
   "source": [
    "nodes, edges = osmnx_to_regular_graph(G)"
   ]
  },
  {
   "cell_type": "code",
   "execution_count": 158,
   "id": "4851a683",
   "metadata": {},
   "outputs": [
    {
     "name": "stdout",
     "output_type": "stream",
     "text": [
      "0 1 107.41299999999998\n",
      "0 3 142.02499999999998\n",
      "1 2 141.957\n",
      "2 3 107.72500000000001\n",
      "2 5 8.222999999999999\n",
      "3 4 8.228\n",
      "4 5 107.75699999999999\n"
     ]
    }
   ],
   "source": [
    "for src, dest, length in edges:\n",
    "    print(src, dest, length)"
   ]
  },
  {
   "cell_type": "code",
   "execution_count": 112,
   "id": "d1ff22cf",
   "metadata": {
    "scrolled": false
   },
   "outputs": [
    {
     "name": "stdout",
     "output_type": "stream",
     "text": [
      "65295314 65326736 0 None\n",
      "65295314 6319217963 0 None\n",
      "6319217961 65326736 0 None\n",
      "6319217963 6319217969 0 None\n",
      "6319217963 65295314 0 None\n",
      "6319217963 6319217961 0 None\n",
      "6319217969 6319217963 0 None\n",
      "6319217970 6319217961 0 None\n",
      "6319217970 6319217969 0 None\n"
     ]
    }
   ],
   "source": [
    "for u, v, keys, weight in G.edges(data=\"weight\", keys=True):\n",
    "    print(u, v, keys, weight)"
   ]
  },
  {
   "cell_type": "markdown",
   "id": "916ca890",
   "metadata": {},
   "source": [
    "#### Sandbox"
   ]
  },
  {
   "cell_type": "code",
   "execution_count": 78,
   "id": "f9146be5",
   "metadata": {},
   "outputs": [
    {
     "data": {
      "text/plain": [
       "[(0, 1)]"
      ]
     },
     "execution_count": 78,
     "metadata": {},
     "output_type": "execute_result"
    }
   ],
   "source": [
    "# Doc link: https://networkx.org/documentation/stable/reference/classes/generated/networkx.MultiDiGraph.edges.html#networkx.MultiDiGraph.edges\n",
    "# Uncomment each cell one by one to understand\n",
    "\n",
    "G = nx.MultiDiGraph()\n",
    "\n",
    "nx.add_path(G, [0, 1, 2])\n",
    "[e for e in G.edges()]\n",
    "\n",
    "key = G.add_edge(2, 3, weight=5)\n",
    "[e for e in G.edges()]\n",
    "\n",
    "list(G.edges(data=True))  # default data is {} (empty dict)\n",
    "\n",
    "list(G.edges(data=\"weight\", default=1)) #default value for weight\n",
    "\n",
    "list(G.edges(keys=True))  # default keys are integers\n",
    "\n",
    "list(G.edges(data=True, keys=True))\n",
    "\n",
    "list(G.edges(data=\"weight\", default=1, keys=True))\n",
    "\n",
    "list(G.edges([0, 2]))\n",
    "\n",
    "list(G.edges(0))"
   ]
  },
  {
   "cell_type": "code",
   "execution_count": 79,
   "id": "fe73290a",
   "metadata": {},
   "outputs": [],
   "source": [
    "assert G.number_of_nodes() == len(G.nodes)"
   ]
  },
  {
   "cell_type": "code",
   "execution_count": 80,
   "id": "5c88f231",
   "metadata": {},
   "outputs": [],
   "source": [
    "assert G.number_of_edges() == len(G.edges)"
   ]
  },
  {
   "cell_type": "markdown",
   "id": "9b216008",
   "metadata": {},
   "source": [
    "# II/ Graph traversal"
   ]
  },
  {
   "cell_type": "markdown",
   "id": "c6ea98df",
   "metadata": {},
   "source": [
    "# III/ Benchmark"
   ]
  },
  {
   "cell_type": "markdown",
   "id": "763f2291",
   "metadata": {},
   "source": [
    "# ?/ Analysis"
   ]
  },
  {
   "cell_type": "markdown",
   "id": "f6883156",
   "metadata": {},
   "source": [
    "See `Part 5: calculate basic network indicators` of notebook `01-overview-osmnx` for further detail on analysis."
   ]
  },
  {
   "cell_type": "code",
   "execution_count": 6,
   "id": "a36bde1e",
   "metadata": {},
   "outputs": [
    {
     "data": {
      "text/plain": [
       "{'n': 205,\n",
       " 'm': 467,\n",
       " 'k_avg': 4.556097560975609,\n",
       " 'edge_length_total': 45933.512000000046,\n",
       " 'edge_length_avg': 98.35869807280524,\n",
       " 'streets_per_node_avg': 3.6634146341463416,\n",
       " 'streets_per_node_counts': {0: 0, 1: 9, 2: 3, 3: 40, 4: 149, 5: 4},\n",
       " 'streets_per_node_proportions': {0: 0.0,\n",
       "  1: 0.04390243902439024,\n",
       "  2: 0.014634146341463415,\n",
       "  3: 0.1951219512195122,\n",
       "  4: 0.7268292682926829,\n",
       "  5: 0.01951219512195122},\n",
       " 'intersection_count': 196,\n",
       " 'street_length_total': 35515.20500000001,\n",
       " 'street_segment_count': 350,\n",
       " 'street_length_avg': 101.47201428571431,\n",
       " 'circuity_avg': 1.002100451240503,\n",
       " 'self_loop_proportion': 0.0}"
      ]
     },
     "execution_count": 6,
     "metadata": {},
     "output_type": "execute_result"
    }
   ],
   "source": [
    "# calculate basic street network metrics and display average circuity\n",
    "stats = ox.basic_stats(G)\n",
    "stats"
   ]
  },
  {
   "cell_type": "code",
   "execution_count": null,
   "id": "a359742a",
   "metadata": {},
   "outputs": [],
   "source": []
  }
 ],
 "metadata": {
  "kernelspec": {
   "display_name": "ero-env",
   "language": "python",
   "name": "ero-env"
  },
  "language_info": {
   "codemirror_mode": {
    "name": "ipython",
    "version": 3
   },
   "file_extension": ".py",
   "mimetype": "text/x-python",
   "name": "python",
   "nbconvert_exporter": "python",
   "pygments_lexer": "ipython3",
   "version": "3.6.9"
  }
 },
 "nbformat": 4,
 "nbformat_minor": 5
}
