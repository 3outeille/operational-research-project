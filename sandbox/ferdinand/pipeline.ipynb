{
 "cells": [
  {
   "cell_type": "code",
   "execution_count": 1,
   "id": "dabd282e",
   "metadata": {},
   "outputs": [
    {
     "data": {
      "text/plain": [
       "'1.1.0'"
      ]
     },
     "execution_count": 1,
     "metadata": {},
     "output_type": "execute_result"
    }
   ],
   "source": [
    "import matplotlib.pyplot as plt\n",
    "import networkx as nx\n",
    "import osmnx as ox\n",
    "\n",
    "%matplotlib inline\n",
    "ox.config(log_console=True)\n",
    "ox.__version__"
   ]
  },
  {
   "cell_type": "markdown",
   "id": "fd59c61a",
   "metadata": {},
   "source": [
    "# I/ Map"
   ]
  },
  {
   "cell_type": "code",
   "execution_count": 2,
   "id": "6d095ab5",
   "metadata": {},
   "outputs": [
    {
     "data": {
      "image/png": "[encoded data removed]",
      "text/plain": [
       "<Figure size 576x576 with 1 Axes>"
      ]
     },
     "metadata": {},
     "output_type": "display_data"
    }
   ],
   "source": [
    "# define a point at the corner of California St and Mason St in SF\n",
    "location_point = (37.791427, -122.410018)\n",
    "\n",
    "# create network from point, inside bounding box of N, S, E, W each 100m from point\n",
    "MDG = ox.graph_from_point(location_point, dist=100, dist_type=\"bbox\", network_type=\"drive\")\n",
    "fig, ax = ox.plot_graph(MDG, node_color=\"white\", node_size=100)"
   ]
  },
  {
   "cell_type": "markdown",
   "id": "48ebbb69",
   "metadata": {},
   "source": [
    "## A) Graph pre-processing"
   ]
  },
  {
   "cell_type": "markdown",
   "id": "3f05eb32",
   "metadata": {},
   "source": [
    "- [ ] Build regular graph representation from Osmnx graph.\n",
    "    - Convert osmnx node id to intgers\n",
    "    - Transform to MultiGraph\n",
    "- [ ] Make graph eulerian (Chinese postman)"
   ]
  },
  {
   "cell_type": "code",
   "execution_count": 3,
   "id": "d2b19f77",
   "metadata": {},
   "outputs": [],
   "source": [
    "MDG = nx.convert_node_labels_to_integers(MDG) # Use label to deal with node id \n",
    "MG = ox.utils_graph.get_undirected(MDG) # MultiDiGraph -> MultiGraph"
   ]
  },
  {
   "cell_type": "code",
   "execution_count": 43,
   "id": "94678de1",
   "metadata": {},
   "outputs": [],
   "source": [
    "class RegGraph:\n",
    "    \"\"\"\n",
    "        Build regular graph representation from Osmnx graph.\n",
    "    \"\"\"\n",
    "    \n",
    "    def __init__(self, G):\n",
    "        self.G = G\n",
    "        self.adjlist = self.create_adjlist(self.G)\n",
    "        self.adjmat = self.adjlist_to_adjmat(self.adjlist)\n",
    "        \n",
    "    def create_adjlist(self, G):\n",
    "        adjlist = []\n",
    "        for src, nbrdict in self.G.adjacency():\n",
    "            tmp = []\n",
    "            for dst in nbrdict:\n",
    "                length = ox.utils_graph.get_route_edge_attributes(G, (src, dst), 'length')[0]\n",
    "                tmp.append((dst, length))\n",
    "            adjlist.append((src, tmp))\n",
    "        return dict(adjlist)\n",
    "        \n",
    "\n",
    "    def adjlist_to_adjmat(self, adjlist):\n",
    "        n = len(self.adjlist)\n",
    "        adjmat = [[0 for j in range(n)] for i in range(n)]\n",
    "        for src in range(n):\n",
    "            for dst, length in self.adjlist[src]:\n",
    "                adjmat[src][dst] = length\n",
    "        return adjmat\n",
    "\n",
    "    def pretty_print_adjmat(self):\n",
    "        n = len(self.adjmat)\n",
    "\n",
    "        print(\"  \",end=\"\")\n",
    "        for i in range(n):\n",
    "            print(\"{} \".format(i), end=\"\")\n",
    "\n",
    "        print()\n",
    "\n",
    "        for i in range(n):\n",
    "            print(\"{} \".format(i), end=\"\")\n",
    "            for j in range(n):\n",
    "                print(self.adjmat[i][j], end=\"|\")\n",
    "            print()"
   ]
  },
  {
   "cell_type": "code",
   "execution_count": 44,
   "id": "1783b2cf",
   "metadata": {},
   "outputs": [
    {
     "name": "stdout",
     "output_type": "stream",
     "text": [
      "{0: [(1, 107.41299999999998), (3, 142.02499999999998)], 1: [(0, 107.41299999999998), (2, 141.957)], 2: [(1, 141.957), (3, 107.72500000000001), (5, 8.222999999999999)], 3: [(0, 142.02499999999998), (4, 8.228), (2, 107.72500000000001)], 4: [(3, 8.228), (5, 107.75699999999999)], 5: [(2, 8.222999999999999), (4, 107.75699999999999)]}\n",
      "----\n",
      "  0 1 2 3 4 5 \n",
      "0 0|107.41299999999998|0|142.02499999999998|0|0|\n",
      "1 107.41299999999998|0|141.957|0|0|0|\n",
      "2 0|141.957|0|107.72500000000001|0|8.222999999999999|\n",
      "3 142.02499999999998|0|107.72500000000001|0|8.228|0|\n",
      "4 0|0|0|8.228|0|107.75699999999999|\n",
      "5 0|0|8.222999999999999|0|107.75699999999999|0|\n"
     ]
    }
   ],
   "source": [
    "graph = RegGraph(MG)\n",
    "print(graph.adjlist)\n",
    "print(\"----\")\n",
    "graph.pretty_print_adjmat()"
   ]
  },
  {
   "cell_type": "markdown",
   "id": "a59f64c6",
   "metadata": {},
   "source": [
    "## B) Graph traversal"
   ]
  },
  {
   "cell_type": "markdown",
   "id": "454e07b4",
   "metadata": {},
   "source": [
    "- [ ] `find_eulerian_circuit()`"
   ]
  },
  {
   "cell_type": "code",
   "execution_count": 45,
   "id": "092af139",
   "metadata": {},
   "outputs": [
    {
     "name": "stdout",
     "output_type": "stream",
     "text": [
      "[3, 0, 1, 2, 3, 4, 5, 2]\n"
     ]
    }
   ],
   "source": [
    "def find_eulerian_circuit_aux(circuit, adjmat, start):\n",
    "    for i in range(len(adjmat)):\n",
    "        if adjmat[start][i] > 0:\n",
    "            adjmat[start][i] = 0\n",
    "            adjmat[i][start] = 0\n",
    "            find_eulerian_circuit_aux(circuit, adjmat, i)\n",
    "    circuit.append(start)\n",
    "    return circuit\n",
    "\n",
    "def find_eulerian_circuit(adjmat, start):\n",
    "    circuit = []\n",
    "    return find_eulerian_circuit_aux(circuit, adjmat, start)\n",
    "        \n",
    "circuit = find_eulerian_circuit(graph.adjmat, 3)\n",
    "print(circuit[::-1])"
   ]
  },
  {
   "cell_type": "markdown",
   "id": "e9d92f16",
   "metadata": {},
   "source": [
    "# II/ Benchmark"
   ]
  },
  {
   "cell_type": "markdown",
   "id": "ad304eba",
   "metadata": {},
   "source": [
    "# III/ Vizualisation"
   ]
  }
 ],
 "metadata": {
  "kernelspec": {
   "display_name": "ero-env",
   "language": "python",
   "name": "ero-env"
  },
  "language_info": {
   "codemirror_mode": {
    "name": "ipython",
    "version": 3
   },
   "file_extension": ".py",
   "mimetype": "text/x-python",
   "name": "python",
   "nbconvert_exporter": "python",
   "pygments_lexer": "ipython3",
   "version": "3.6.9"
  }
 },
 "nbformat": 4,
 "nbformat_minor": 5
}
