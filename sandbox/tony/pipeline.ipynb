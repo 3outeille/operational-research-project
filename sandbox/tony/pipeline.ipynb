{
 "cells": [
  {
   "cell_type": "code",
   "execution_count": 1,
   "id": "b0575c7d",
   "metadata": {},
   "outputs": [
    {
     "output_type": "execute_result",
     "data": {
      "text/plain": [
       "'1.1.1'"
      ]
     },
     "metadata": {},
     "execution_count": 1
    }
   ],
   "source": [
    "import networkx as nx\n",
    "import osmnx as ox\n",
    "\n",
    "import matplotlib.pyplot as plt\n",
    "%matplotlib inline\n",
    "ox.config(log_console=True)\n",
    "ox.__version__"
   ]
  },
  {
   "source": [
    "# I/ Map"
   ],
   "cell_type": "markdown",
   "metadata": {}
  },
  {
   "cell_type": "code",
   "execution_count": 22,
   "metadata": {},
   "outputs": [
    {
     "output_type": "display_data",
     "data": {
      "text/plain": "<Figure size 576x576 with 1 Axes>",
      "image/svg+xml": "<?xml version=\"1.0\" encoding=\"utf-8\" standalone=\"no\"?>\n<!DOCTYPE svg PUBLIC \"-//W3C//DTD SVG 1.1//EN\"\n  \"http://www.w3.org/Graphics/SVG/1.1/DTD/svg11.dtd\">\n<svg height=\"449.28pt\" version=\"1.1\" viewBox=\"0 0 389.01125 449.28\" width=\"389.01125pt\" xmlns=\"http://www.w3.org/2000/svg\" xmlns:xlink=\"http://www.w3.org/1999/xlink\">\n <metadata>\n  <rdf:RDF xmlns:cc=\"http://creativecommons.org/ns#\" xmlns:dc=\"http://purl.org/dc/elements/1.1/\" xmlns:rdf=\"http://www.w3.org/1999/02/22-rdf-syntax-ns#\">\n   <cc:Work>\n    <dc:type rdf:resource=\"http://purl.org/dc/dcmitype/StillImage\"/>\n    <dc:date>2021-05-25T22:39:47.251794</dc:date>\n    <dc:format>image/svg+xml</dc:format>\n    <dc:creator>\n     <cc:Agent>\n      <dc:title>Matplotlib v3.4.2, https://matplotlib.org/</dc:title>\n     </cc:Agent>\n    </dc:creator>\n   </cc:Work>\n  </rdf:RDF>\n </metadata>\n <defs>\n  <style type=\"text/css\">*{stroke-linecap:butt;stroke-linejoin:round;}</style>\n </defs>\n <g id=\"figure_1\">\n  <g id=\"axes_1\">\n   <g id=\"patch_1\">\n    <path d=\"M 7.2 442.08 \nL 381.81125 442.08 \nL 381.81125 7.2 \nL 7.2 7.2 \nz\n\" style=\"fill:#111111;\"/>\n   </g>\n   <g id=\"LineCollection_1\">\n    <path clip-path=\"url(#pc9bc729ac9)\" d=\"M 163.245796 163.06162 \nL 163.317306 164.276771 \nL 165.064178 174.760672 \nL 165.57496 177.824402 \nL 169.283234 201.274214 \nL 180.551074 272.580258 \nL 182.737219 286.399359 \n\" style=\"fill:none;stroke:#999999;\"/>\n    <path clip-path=\"url(#pc9bc729ac9)\" d=\"M 163.245796 163.06162 \nL 162.878034 160.838154 \nL 160.691889 147.536138 \nL 155.798602 117.85545 \nL 149.689655 80.715808 \nL 144.755505 50.789504 \nL 143.110789 43.227133 \n\" style=\"fill:none;stroke:#999999;\"/>\n    <path clip-path=\"url(#pc9bc729ac9)\" d=\"M 163.245796 163.06162 \nL 151.344587 164.948981 \nL 135.377557 167.482699 \nL 71.182536 177.708058 \n\" style=\"fill:none;stroke:#999999;\"/>\n    <path clip-path=\"url(#pc9bc729ac9)\" d=\"M 163.245796 163.06162 \nL 173.52272 161.381094 \nL 201.605488 156.598056 \nL 281.951421 143.696781 \nL 318.89114 137.672739 \nL 326.205531 136.483443 \n\" style=\"fill:none;stroke:#999999;\"/>\n    <path clip-path=\"url(#pc9bc729ac9)\" d=\"M 71.182536 177.708058 \nL 135.377557 167.482699 \nL 151.344587 164.948981 \nL 163.245796 163.06162 \n\" style=\"fill:none;stroke:#999999;\"/>\n    <path clip-path=\"url(#pc9bc729ac9)\" d=\"M 50.66955 58.080405 \nL 53.550358 65.254961 \nL 56.002109 80.922642 \nL 61.385746 115.270024 \nL 68.853372 162.932349 \nL 70.855636 175.652644 \nL 71.182536 177.708058 \n\" style=\"fill:none;stroke:#999999;\"/>\n    <path clip-path=\"url(#pc9bc729ac9)\" d=\"M 312.966074 15.563077 \nL 311.392867 15.808692 \nL 300.697102 17.644345 \nL 277.660856 21.600046 \nL 143.110789 43.227133 \n\" style=\"fill:none;stroke:#999999;\"/>\n    <path clip-path=\"url(#pc9bc729ac9)\" d=\"M 312.966074 15.563077 \nL 311.658473 17.98045 \nL 307.9502 23.65546 \nL 323.927445 122.237747 \nL 325.95014 134.712426 \nL 326.205531 136.483443 \n\" style=\"fill:none;stroke:#999999;\"/>\n    <path clip-path=\"url(#pc9bc729ac9)\" d=\"M 143.110789 43.227133 \nL 144.755505 50.789504 \nL 149.689655 80.715808 \nL 155.798602 117.85545 \nL 160.691889 147.536138 \nL 162.878034 160.838154 \nL 163.245796 163.06162 \n\" style=\"fill:none;stroke:#999999;\"/>\n    <path clip-path=\"url(#pc9bc729ac9)\" d=\"M 143.110789 43.227133 \nL 55.011193 57.38234 \nL 50.66955 58.080405 \n\" style=\"fill:none;stroke:#999999;\"/>\n    <path clip-path=\"url(#pc9bc729ac9)\" d=\"M 201.748507 406.725077 \nL 271.64385 395.504329 \nL 357.710535 381.685228 \nL 365.167945 380.483005 \n\" style=\"fill:none;stroke:#999999;\"/>\n    <path clip-path=\"url(#pc9bc729ac9)\" d=\"M 33.558369 433.716923 \nL 201.748507 406.725077 \n\" style=\"fill:none;stroke:#999999;\"/>\n    <path clip-path=\"url(#pc9bc729ac9)\" d=\"M 33.558369 433.716923 \nL 25.79449 384.981646 \nL 14.404062 313.468768 \n\" style=\"fill:none;stroke:#999999;\"/>\n    <path clip-path=\"url(#pc9bc729ac9)\" d=\"M 182.737219 286.399359 \nL 184.892717 300.063335 \nL 192.871124 350.51792 \nL 199.8484 394.651139 \nL 201.748507 406.725077 \n\" style=\"fill:none;stroke:#999999;\"/>\n    <path clip-path=\"url(#pc9bc729ac9)\" d=\"M 182.737219 286.399359 \nL 146.001812 292.307057 \nL 14.404062 313.468768 \n\" style=\"fill:none;stroke:#999999;\"/>\n    <path clip-path=\"url(#pc9bc729ac9)\" d=\"M 365.167945 380.483005 \nL 368.610613 379.927139 \nL 370.061232 379.69445 \nL 371.920477 379.397126 \nL 374.607187 378.970531 \n\" style=\"fill:none;stroke:#999999;\"/>\n    <path clip-path=\"url(#pc9bc729ac9)\" d=\"M 345.676522 260.196069 \nL 339.261107 261.230239 \nL 233.059414 278.306977 \nL 182.737219 286.399359 \n\" style=\"fill:none;stroke:#999999;\"/>\n    <path clip-path=\"url(#pc9bc729ac9)\" d=\"M 345.676522 260.196069 \nL 347.239514 269.723363 \nL 351.540294 295.926654 \nL 363.288269 368.835662 \nL 365.167945 380.483005 \n\" style=\"fill:none;stroke:#999999;\"/>\n    <path clip-path=\"url(#pc9bc729ac9)\" d=\"M 326.205531 136.483443 \nL 329.566473 135.940503 \nL 331.384856 135.630252 \nL 333.203238 135.332928 \nL 335.644773 134.932187 \n\" style=\"fill:none;stroke:#999999;\"/>\n    <path clip-path=\"url(#pc9bc729ac9)\" d=\"M 326.205531 136.483443 \nL 318.89114 137.672739 \nL 281.951421 143.696781 \nL 201.605488 156.598056 \nL 173.52272 161.381094 \nL 163.245796 163.06162 \n\" style=\"fill:none;stroke:#999999;\"/>\n    <path clip-path=\"url(#pc9bc729ac9)\" d=\"M 326.205531 136.483443 \nL 326.522216 138.215678 \nL 328.228226 149.06154 \nL 343.796846 248.238474 \nL 345.676522 260.196069 \n\" style=\"fill:none;stroke:#999999;\"/>\n    <path clip-path=\"url(#pc9bc729ac9)\" d=\"M 335.644773 134.932187 \nL 333.203238 135.332928 \nL 331.384856 135.630252 \nL 329.566473 135.940503 \nL 326.205531 136.483443 \n\" style=\"fill:none;stroke:#999999;\"/>\n    <path clip-path=\"url(#pc9bc729ac9)\" d=\"M 335.644773 134.932187 \nL 335.389383 133.161171 \nL 331.303131 121.061378 \nL 323.42688 70.917044 \nL 323.488173 41.003667 \nL 320.096584 21.781026 \nL 314.784456 17.592636 \nL 312.966074 15.563077 \n\" style=\"fill:none;stroke:#999999;\"/>\n    <path clip-path=\"url(#pc9bc729ac9)\" d=\"M 355.115765 258.683595 \nL 352.520995 259.097263 \nL 350.569809 259.407514 \nL 348.567546 259.730692 \nL 345.676522 260.196069 \n\" style=\"fill:none;stroke:#999999;\"/>\n    <path clip-path=\"url(#pc9bc729ac9)\" d=\"M 355.115765 258.683595 \nL 353.25652 246.855271 \nL 337.667468 147.549065 \nL 335.961458 136.651496 \nL 335.644773 134.932187 \n\" style=\"fill:none;stroke:#999999;\"/>\n    <path clip-path=\"url(#pc9bc729ac9)\" d=\"M 374.607187 378.970531 \nL 372.727512 367.323188 \nL 360.856949 293.496353 \nL 356.699188 268.327233 \nL 355.115765 258.683595 \n\" style=\"fill:none;stroke:#999999;\"/>\n   </g>\n   <g id=\"PathCollection_1\">\n    <defs>\n     <path d=\"M 0 5 \nC 1.326016 5 2.597899 4.473168 3.535534 3.535534 \nC 4.473168 2.597899 5 1.326016 5 -0 \nC 5 -1.326016 4.473168 -2.597899 3.535534 -3.535534 \nC 2.597899 -4.473168 1.326016 -5 0 -5 \nC -1.326016 -5 -2.597899 -4.473168 -3.535534 -3.535534 \nC -4.473168 -2.597899 -5 -1.326016 -5 0 \nC -5 1.326016 -4.473168 2.597899 -3.535534 3.535534 \nC -2.597899 4.473168 -1.326016 5 0 5 \nz\n\" id=\"C0_0_d9afb7b053\"/>\n    </defs>\n    <g clip-path=\"url(#pc9bc729ac9)\">\n     <use style=\"fill:#ffffff;\" x=\"163.245796\" xlink:href=\"#C0_0_d9afb7b053\" y=\"163.06162\"/>\n    </g>\n    <g clip-path=\"url(#pc9bc729ac9)\">\n     <use style=\"fill:#ffffff;\" x=\"71.182536\" xlink:href=\"#C0_0_d9afb7b053\" y=\"177.708058\"/>\n    </g>\n    <g clip-path=\"url(#pc9bc729ac9)\">\n     <use style=\"fill:#ffffff;\" x=\"50.66955\" xlink:href=\"#C0_0_d9afb7b053\" y=\"58.080405\"/>\n    </g>\n    <g clip-path=\"url(#pc9bc729ac9)\">\n     <use style=\"fill:#ffffff;\" x=\"312.966074\" xlink:href=\"#C0_0_d9afb7b053\" y=\"15.563077\"/>\n    </g>\n    <g clip-path=\"url(#pc9bc729ac9)\">\n     <use style=\"fill:#ffffff;\" x=\"143.110789\" xlink:href=\"#C0_0_d9afb7b053\" y=\"43.227133\"/>\n    </g>\n    <g clip-path=\"url(#pc9bc729ac9)\">\n     <use style=\"fill:#ffffff;\" x=\"201.748507\" xlink:href=\"#C0_0_d9afb7b053\" y=\"406.725077\"/>\n    </g>\n    <g clip-path=\"url(#pc9bc729ac9)\">\n     <use style=\"fill:#ffffff;\" x=\"33.558369\" xlink:href=\"#C0_0_d9afb7b053\" y=\"433.716923\"/>\n    </g>\n    <g clip-path=\"url(#pc9bc729ac9)\">\n     <use style=\"fill:#ffffff;\" x=\"182.737219\" xlink:href=\"#C0_0_d9afb7b053\" y=\"286.399359\"/>\n    </g>\n    <g clip-path=\"url(#pc9bc729ac9)\">\n     <use style=\"fill:#ffffff;\" x=\"14.404062\" xlink:href=\"#C0_0_d9afb7b053\" y=\"313.468768\"/>\n    </g>\n    <g clip-path=\"url(#pc9bc729ac9)\">\n     <use style=\"fill:#ffffff;\" x=\"365.167945\" xlink:href=\"#C0_0_d9afb7b053\" y=\"380.483005\"/>\n    </g>\n    <g clip-path=\"url(#pc9bc729ac9)\">\n     <use style=\"fill:#ffffff;\" x=\"345.676522\" xlink:href=\"#C0_0_d9afb7b053\" y=\"260.196069\"/>\n    </g>\n    <g clip-path=\"url(#pc9bc729ac9)\">\n     <use style=\"fill:#ffffff;\" x=\"326.205531\" xlink:href=\"#C0_0_d9afb7b053\" y=\"136.483443\"/>\n    </g>\n    <g clip-path=\"url(#pc9bc729ac9)\">\n     <use style=\"fill:#ffffff;\" x=\"335.644773\" xlink:href=\"#C0_0_d9afb7b053\" y=\"134.932187\"/>\n    </g>\n    <g clip-path=\"url(#pc9bc729ac9)\">\n     <use style=\"fill:#ffffff;\" x=\"355.115765\" xlink:href=\"#C0_0_d9afb7b053\" y=\"258.683595\"/>\n    </g>\n    <g clip-path=\"url(#pc9bc729ac9)\">\n     <use style=\"fill:#ffffff;\" x=\"374.607187\" xlink:href=\"#C0_0_d9afb7b053\" y=\"378.970531\"/>\n    </g>\n   </g>\n  </g>\n </g>\n <defs>\n  <clipPath id=\"pc9bc729ac9\">\n   <rect height=\"434.88\" width=\"374.61125\" x=\"7.2\" y=\"7.2\"/>\n  </clipPath>\n </defs>\n</svg>\n",
      "image/png": "[encoded data removed]"
     },
     "metadata": {}
    }
   ],
   "source": [
    "# define a point at the corner of California St and Mason St in SF\n",
    "location_point = (37.791427, -122.410018)\n",
    "\n",
    "# create network from point, inside bounding box of N, S, E, W each 100m from point\n",
    "MDG = ox.graph_from_point(location_point, dist=200, dist_type=\"bbox\", network_type=\"drive\")\n",
    "fig, ax = ox.plot_graph(MDG, node_color=\"white\", node_size=100)\n",
    "\n",
    "MDG = nx.convert_node_labels_to_integers(MDG) # Use label to deal with node id \n",
    "\n",
    "MG = ox.utils_graph.get_undirected(MDG) # MultiDiGraph -> MultiGraph\n",
    "# G = nx.Graph(MG) # MultiDiGraph -> Graph\n",
    "adjacency = dict([(n, list(nbrdict.keys())) for n, nbrdict in MG.adjacency()])"
   ]
  },
  {
   "cell_type": "markdown",
   "id": "129160cb",
   "metadata": {},
   "source": [
    "# II/ Chinese Postman Algorithm"
   ]
  },
  {
   "source": [
    "1. List all odd vertices.\n",
    "2. List all possible pairings of odd vertices.\n",
    "3. For each pairing find the edges that connect the vertices with the minimum weight.\n",
    "4. Find the pairings such that the sum of the weights is minimised.\n",
    "5. On the original graph add the edges that have been found in Step 4.\n",
    "6. The length of an optimal Chinese postman route is the sum of all the edges added to the total found in Step 4.\n",
    "7. A route corresponding to this minimum weight can then be easily found.\n"
   ],
   "cell_type": "markdown",
   "metadata": {}
  },
  {
   "cell_type": "code",
   "execution_count": 29,
   "metadata": {},
   "outputs": [
    {
     "output_type": "stream",
     "name": "stdout",
     "text": [
      "[3, 4, 5, 9, 12, 13]\n"
     ]
    }
   ],
   "source": [
    "# 1. List all odd vertices\n",
    "def list_odd_vertices(adjlist):\n",
    "    odds = [i for i in range(len(adjlist)) if len(adjlist[i]) % 2 != 0]\n",
    "    return odds\n",
    "\n",
    "odds = list_odd_vertices(adjacency)\n",
    "print(odds)"
   ]
  },
  {
   "cell_type": "code",
   "execution_count": 40,
   "metadata": {},
   "outputs": [
    {
     "output_type": "stream",
     "name": "stdout",
     "text": [
      "[(3, 4), (3, 5), (3, 9), (3, 12), (3, 13), (4, 5), (4, 9), (4, 12), (4, 13), (5, 9), (5, 12), (5, 13), (9, 12), (9, 13), (12, 13)]\n"
     ]
    }
   ],
   "source": [
    "# 2. List all possible pairings of odd vertices\n",
    "def list_all_pairings(odds):\n",
    "    n = len(odds)\n",
    "    pairs = []\n",
    "    for i in range(n):\n",
    "        for j in range(i + 1, n):\n",
    "            pairs.append((odds[i], odds[j]))\n",
    "    return pairs\n",
    "\n",
    "pairs = list_all_pairings(odds)\n",
    "print(pairs)\n"
   ]
  },
  {
   "cell_type": "code",
   "execution_count": null,
   "metadata": {},
   "outputs": [],
   "source": [
    "def choose_min(dist, M):\n",
    "    \"\"\"\n",
    "    dist: distance vector which contains the shortest distance (so far) indexed on the number of vertices\n",
    "    M: boolean vector representing the set of vertices that we can choose from (True can be chose, False cannot be chosen)\n",
    "    \"\"\"\n",
    "    value_min = inf \n",
    "    vertex_min = None\n",
    "    for i in range(len(M)):\n",
    "        if M[i] and dist[i]<value_min:\n",
    "            value_min = dist[i]\n",
    "            vertex_min = i\n",
    "    return vertex_min\n",
    "    \n",
    "def Dijkstra_0(G, src):\n",
    "    dist = [inf]*G.order\n",
    "    M = [True]*G.order\n",
    "    p = [None]*G.order\n",
    "    visited = []\n",
    "    \n",
    "    p[src] = -1\n",
    "    dist[src] = 0\n",
    "    \n",
    "    cpt = 1\n",
    "    while src!=None and cpt<G.order:\n",
    "        cpt +=1\n",
    "        visited.append(src)\n",
    "        M[src] = False\n",
    "        for adj in G.adjlists[src]:\n",
    "            if dist[src]+G.costs[(src,adj)]<dist[adj]:\n",
    "                dist[adj] = dist[src]+G.costs[(src,adj)]\n",
    "                p[adj] = src\n",
    "        src = choose_min(dist,M)\n",
    "    return (dist,p,visited)"
   ]
  },
  {
   "cell_type": "code",
   "execution_count": null,
   "metadata": {},
   "outputs": [],
   "source": [
    "# 3. For each pairing find the edges that connect the vertices with the minimum weight\n",
    "def dijktra(adjlist, pair):\n",
    "    (src, dst) = pair\n",
    "    dists = [float(\"inf\") for _ in range(len(adjlist))]\n",
    "    dists[src] = 0\n",
    "    // TODO\n",
    "    \n",
    "    return dists\n",
    "\n",
    "\n",
    "def find_min_paths(adjlist, pairs):\n",
    "    paths = [dijktra(adjlist, pairs[i]) for i in range(len(pairs))]\n",
    "    return paths\n",
    "\n",
    "min_paths = find_min_paths(adjacency, pairs)\n",
    "print(min_paths)"
   ]
  }
 ],
 "metadata": {
  "kernelspec": {
   "display_name": "ero-env",
   "language": "python",
   "name": "ero-env"
  }
 },
 "nbformat": 4,
 "nbformat_minor": 5
}