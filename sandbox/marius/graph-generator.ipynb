{
 "cells": [
  {
   "cell_type": "code",
   "execution_count": 1,
   "id": "cddee6ed",
   "metadata": {},
   "outputs": [],
   "source": [
    "%matplotlib inline\n",
    "import matplotlib.pyplot as plt\n",
    "import osmnx as ox\n",
    "import networkx as nx\n",
    "from itertools import combinations\n",
    "import random"
   ]
  },
  {
   "cell_type": "markdown",
   "id": "f4ef5984",
   "metadata": {},
   "source": [
    "Ressources:\n",
    "\n",
    "- [Plot labels on graph edges](https://compucademy.net/graphs-in-python-for-a-level-computer-science/)\n",
    "- [Create random graph](https://compucademy.net/generating-random-graphs-in-python/)"
   ]
  },
  {
   "cell_type": "code",
   "execution_count": 2,
   "id": "a21f48b3",
   "metadata": {},
   "outputs": [],
   "source": [
    "def create_random_graph(n, p, is_weighted=False):\n",
    "    \"\"\"\n",
    "        Generating a random undirected weighted/unweighted graph.\n",
    "    \"\"\"\n",
    "    V = set([v for v in range(n)])\n",
    "    E = set()\n",
    "    for combination in combinations(V, 2):\n",
    "        a = random.random()\n",
    "        if a < p:\n",
    "            if is_weighted:\n",
    "                w = random.randint(1, 100)\n",
    "                E.add((*combination, w))\n",
    "            else:\n",
    "                E.add(combination)\n",
    "\n",
    "    g = nx.Graph()\n",
    "    g.add_nodes_from(V)\n",
    "    \n",
    "    if is_weighted:\n",
    "        g.add_weighted_edges_from(E)\n",
    "    else:\n",
    "        g.add_edges_from(E)\n",
    "        \n",
    "    return g\n",
    "\n",
    "n = 5\n",
    "p = 0.5"
   ]
  },
  {
   "cell_type": "code",
   "execution_count": 3,
   "id": "19489eef",
   "metadata": {},
   "outputs": [
    {
     "data": {
      "image/png": "[encoded data removed]",
      "text/plain": [
       "<Figure size 432x288 with 1 Axes>"
      ]
     },
     "metadata": {},
     "output_type": "display_data"
    }
   ],
   "source": [
    "G_weighted = create_random_graph(n, p, is_weighted=True)\n",
    "weights = nx.get_edge_attributes(G_weighted, \"weight\")\n",
    "pos = nx.spring_layout(G_weighted)\n",
    "\n",
    "nx.draw_networkx(G_weighted, pos, with_labels=True)\n",
    "nx.draw_networkx_edge_labels(G_weighted, pos, edge_labels=weights)\n",
    "\n",
    "plt.title(\"Random Weighted Graph Generation\")\n",
    "plt.show()"
   ]
  },
  {
   "cell_type": "code",
   "execution_count": 4,
   "id": "f8717a4c",
   "metadata": {},
   "outputs": [
    {
     "data": {
      "text/plain": [
       "Text(0.5, 1.0, 'Random unweighted Graph Generation')"
      ]
     },
     "execution_count": 4,
     "metadata": {},
     "output_type": "execute_result"
    },
    {
     "data": {
      "image/png": "[encoded data removed]",
      "text/plain": [
       "<Figure size 432x288 with 1 Axes>"
      ]
     },
     "metadata": {},
     "output_type": "display_data"
    }
   ],
   "source": [
    "G_unweighted = create_random_graph(n, p, is_weighted=False)\n",
    "pos = nx.spring_layout(G_unweighted)\n",
    "nx.draw_networkx(G_unweighted, pos)\n",
    "plt.title(\"Random unweighted Graph Generation\")"
   ]
  },
  {
   "cell_type": "code",
   "execution_count": 5,
   "id": "8320fe80",
   "metadata": {},
   "outputs": [],
   "source": [
    "class RegGraph:\n",
    "    \"\"\"\n",
    "        Build regular graph representation from Osmnx graph.\n",
    "    \"\"\"\n",
    "    \n",
    "    def __init__(self, G, is_weighted=False):\n",
    "        self.G = G\n",
    "        self.is_weighted = is_weighted\n",
    "        self.adjlist = self.create_adjlist(self.G)\n",
    "        self.adjmat = self.adjlist_to_adjmat(self.adjlist)\n",
    "        \n",
    "    def create_adjlist(self, G):\n",
    "        adjlist = []\n",
    "        for src, nbrdict in self.G.adjacency():\n",
    "            tmp = []\n",
    "            for dst, w in nbrdict.items():\n",
    "                if self.is_weighted:\n",
    "                    tmp.append((dst, w['weight']))\n",
    "                else:\n",
    "                    tmp.append(dst)\n",
    "            adjlist.append((src, tmp))\n",
    "        return dict(adjlist)\n",
    "\n",
    "    def adjlist_to_adjmat(self, adjlist):\n",
    "        n = len(self.adjlist)\n",
    "        adjmat = [[0 for j in range(n)] for i in range(n)]\n",
    "        for src in range(n):\n",
    "            if self.is_weighted:\n",
    "                for dst, weight in self.adjlist[src]:\n",
    "                    adjmat[src][dst] = weight\n",
    "            else:\n",
    "                for dst in self.adjlist[src]:\n",
    "                    adjmat[src][dst] = 1\n",
    "        return adjmat\n",
    "\n",
    "    def pretty_print_adjmat(self):\n",
    "        n = len(self.adjmat)\n",
    "\n",
    "        print(\"  \",end=\"\")\n",
    "        for i in range(n):\n",
    "            print(\"{} \".format(i), end=\"\")\n",
    "\n",
    "        print()\n",
    "\n",
    "        for i in range(n):\n",
    "            print(\"{} \".format(i), end=\"\")\n",
    "            for j in range(n):\n",
    "                print(self.adjmat[i][j], end=\"|\")\n",
    "            print()"
   ]
  },
  {
   "cell_type": "code",
   "execution_count": 6,
   "id": "98850ae3",
   "metadata": {},
   "outputs": [
    {
     "name": "stdout",
     "output_type": "stream",
     "text": [
      "{0: [(1, 18), (4, 52)], 1: [(0, 18), (4, 97)], 2: [(3, 30)], 3: [(2, 30)], 4: [(1, 97), (0, 52)]}\n",
      "----\n",
      "  0 1 2 3 4 \n",
      "0 0|18|0|0|52|\n",
      "1 18|0|0|0|97|\n",
      "2 0|0|0|30|0|\n",
      "3 0|0|30|0|0|\n",
      "4 52|97|0|0|0|\n"
     ]
    }
   ],
   "source": [
    "graph_weighted = RegGraph(G_weighted, is_weighted=True)\n",
    "print(graph_weighted.adjlist)\n",
    "print(\"----\")\n",
    "graph_weighted.pretty_print_adjmat()"
   ]
  },
  {
   "cell_type": "code",
   "execution_count": 7,
   "id": "221e55af",
   "metadata": {},
   "outputs": [
    {
     "name": "stdout",
     "output_type": "stream",
     "text": [
      "{0: [4, 3, 2], 1: [2, 4], 2: [1, 4, 0], 3: [0], 4: [1, 2, 0]}\n",
      "----\n",
      "  0 1 2 3 4 \n",
      "0 0|0|1|1|1|\n",
      "1 0|0|1|0|1|\n",
      "2 1|1|0|0|1|\n",
      "3 1|0|0|0|0|\n",
      "4 1|1|1|0|0|\n"
     ]
    }
   ],
   "source": [
    "graph_unweighted = RegGraph(G_unweighted, is_weighted=False)\n",
    "print(graph_unweighted.adjlist)\n",
    "print(\"----\")\n",
    "graph_unweighted.pretty_print_adjmat()"
   ]
  },
  {
   "cell_type": "markdown",
   "id": "41ac3005",
   "metadata": {},
   "source": [
    "## Djisktra"
   ]
  },
  {
   "cell_type": "code",
   "execution_count": 9,
   "id": "bd12c940",
   "metadata": {},
   "outputs": [],
   "source": [
    "from scipy.sparse import csr_matrix\n",
    "from scipy.sparse.csgraph import shortest_path"
   ]
  },
  {
   "cell_type": "code",
   "execution_count": 10,
   "id": "8b97fba2",
   "metadata": {},
   "outputs": [
    {
     "data": {
      "text/plain": [
       "[[0, 0, 1, 1, 1],\n",
       " [0, 0, 1, 0, 1],\n",
       " [1, 1, 0, 0, 1],\n",
       " [1, 0, 0, 0, 0],\n",
       " [1, 1, 1, 0, 0]]"
      ]
     },
     "execution_count": 10,
     "metadata": {},
     "output_type": "execute_result"
    }
   ],
   "source": [
    "graph_unweighted.adjmat"
   ]
  },
  {
   "cell_type": "code",
   "execution_count": 14,
   "id": "324558f9",
   "metadata": {},
   "outputs": [
    {
     "name": "stdout",
     "output_type": "stream",
     "text": [
      "  (0, 2)\t1\n",
      "  (0, 3)\t1\n",
      "  (0, 4)\t1\n",
      "  (1, 2)\t1\n",
      "  (1, 4)\t1\n",
      "  (2, 0)\t1\n",
      "  (2, 1)\t1\n",
      "  (2, 4)\t1\n",
      "  (3, 0)\t1\n",
      "  (4, 0)\t1\n",
      "  (4, 1)\t1\n",
      "  (4, 2)\t1\n"
     ]
    }
   ],
   "source": [
    "graph = csr_matrix(graph_unweighted.adjmat)\n",
    "print(graph)"
   ]
  },
  {
   "cell_type": "code",
   "execution_count": 15,
   "id": "b271572d",
   "metadata": {},
   "outputs": [],
   "source": [
    "dist_matrix, predecessors = shortest_path(csgraph=graph, directed=False, indices=0, return_predecessors=True)"
   ]
  },
  {
   "cell_type": "code",
   "execution_count": 16,
   "id": "7e5c5438",
   "metadata": {},
   "outputs": [
    {
     "data": {
      "text/plain": [
       "array([0., 2., 1., 1., 1.])"
      ]
     },
     "execution_count": 16,
     "metadata": {},
     "output_type": "execute_result"
    }
   ],
   "source": [
    "dist_matrix"
   ]
  },
  {
   "cell_type": "code",
   "execution_count": 17,
   "id": "53db85a4",
   "metadata": {},
   "outputs": [
    {
     "data": {
      "text/plain": [
       "array([-9999,     2,     0,     0,     0], dtype=int32)"
      ]
     },
     "execution_count": 17,
     "metadata": {},
     "output_type": "execute_result"
    }
   ],
   "source": [
    "predecessors"
   ]
  },
  {
   "cell_type": "code",
   "execution_count": null,
   "id": "be11663c",
   "metadata": {},
   "outputs": [],
   "source": []
  }
 ],
 "metadata": {
  "kernelspec": {
   "display_name": "ero-env",
   "language": "python",
   "name": "ero-env"
  },
  "language_info": {
   "codemirror_mode": {
    "name": "ipython",
    "version": 3
   },
   "file_extension": ".py",
   "mimetype": "text/x-python",
   "name": "python",
   "nbconvert_exporter": "python",
   "pygments_lexer": "ipython3",
   "version": "3.6.9"
  }
 },
 "nbformat": 4,
 "nbformat_minor": 5
}
