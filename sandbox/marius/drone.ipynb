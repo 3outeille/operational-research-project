{
 "cells": [
  {
   "cell_type": "code",
   "execution_count": 2,
   "id": "dabd282e",
   "metadata": {},
   "outputs": [
    {
     "name": "stdout",
     "output_type": "stream",
     "text": [
      "osmnx: 1.1.0\n",
      "networkx: 2.5.1\n"
     ]
    }
   ],
   "source": [
    "import copy\n",
    "import itertools\n",
    "import matplotlib.pyplot as plt\n",
    "import networkx as nx\n",
    "import osmnx as ox\n",
    "import pandas as pd\n",
    "\n",
    "%matplotlib inline\n",
    "ox.config(log_console=True)\n",
    "print(\"osmnx: {}\".format(ox.__version__))\n",
    "print(\"networkx: {}\".format(nx.__version__))"
   ]
  },
  {
   "cell_type": "markdown",
   "id": "fd59c61a",
   "metadata": {},
   "source": [
    "# I/ Map"
   ]
  },
  {
   "cell_type": "code",
   "execution_count": 3,
   "id": "6d095ab5",
   "metadata": {},
   "outputs": [
    {
     "data": {
      "image/png": "[encoded data removed]",
      "text/plain": [
       "<Figure size 576x576 with 1 Axes>"
      ]
     },
     "metadata": {},
     "output_type": "display_data"
    }
   ],
   "source": [
    "# define a point at the corner of California St and Mason St in SF\n",
    "location_point = (37.791427, -122.410018)\n",
    "\n",
    "# create network from point, inside bounding box of N, S, E, W each 100m from point\n",
    "MDG = ox.graph_from_point(location_point, dist=100, dist_type=\"bbox\", network_type=\"drive\")\n",
    "fig, ax = ox.plot_graph(MDG, node_color=\"white\", node_size=100)"
   ]
  },
  {
   "cell_type": "markdown",
   "id": "48ebbb69",
   "metadata": {},
   "source": [
    "## A) Graph pre-processing"
   ]
  },
  {
   "cell_type": "code",
   "execution_count": 4,
   "id": "d2b19f77",
   "metadata": {},
   "outputs": [],
   "source": [
    "MDG = nx.convert_node_labels_to_integers(MDG) # Use label to deal with node id \n",
    "MG = ox.utils_graph.get_undirected(MDG) # MultiDiGraph -> MultiGraph"
   ]
  },
  {
   "cell_type": "markdown",
   "id": "6f62a709",
   "metadata": {},
   "source": [
    "**Position**: First you need to manipulate the node positions from the graph into a dictionary. This will allow you to recreate the graph using the same layout as the actual trail map. Y is negated to transform the Y-axis origin from the topleft to the bottomleft."
   ]
  },
  {
   "cell_type": "code",
   "execution_count": 5,
   "id": "b2ab8733",
   "metadata": {},
   "outputs": [
    {
     "data": {
      "text/plain": [
       "{0: (-122.4108302, -37.791838),\n",
       " 1: (-122.4106394, -37.7908839),\n",
       " 2: (-122.4090444, -37.7910866),\n",
       " 3: (-122.409235, -37.7920436),\n",
       " 4: (-122.4091426, -37.7920556),\n",
       " 5: (-122.408952, -37.7910983)}"
      ]
     },
     "execution_count": 5,
     "metadata": {},
     "output_type": "execute_result"
    }
   ],
   "source": [
    "# Define node positions data structure (dict) for plotting\n",
    "node_positions = {node[0]: (node[1]['x'], -node[1]['y']) for node in MG.nodes(data=True)}\n",
    "\n",
    "# Preview of node_positions with a bit of hack (there is no head/slice method for dictionaries).\n",
    "dict(list(node_positions.items())[0:10])"
   ]
  },
  {
   "cell_type": "markdown",
   "id": "16f5046d",
   "metadata": {},
   "source": [
    "# II/ CPP"
   ]
  },
  {
   "cell_type": "markdown",
   "id": "909ea9f7",
   "metadata": {},
   "source": [
    "## CPP Step 1: Find Nodes of Odd Degree"
   ]
  },
  {
   "cell_type": "code",
   "execution_count": 6,
   "id": "b27cc7f9",
   "metadata": {},
   "outputs": [
    {
     "data": {
      "text/plain": [
       "[2, 3]"
      ]
     },
     "execution_count": 6,
     "metadata": {},
     "output_type": "execute_result"
    }
   ],
   "source": [
    "# Calculate list of nodes with odd degree\n",
    "nodes_odd_degree = [v for v, d in MG.degree() if d % 2 == 1]\n",
    "\n",
    "# Preview\n",
    "nodes_odd_degree"
   ]
  },
  {
   "cell_type": "code",
   "execution_count": 7,
   "id": "847a3cea",
   "metadata": {},
   "outputs": [
    {
     "name": "stdout",
     "output_type": "stream",
     "text": [
      "Number of nodes of odd degree: 2\n",
      "Number of total nodes: 6\n"
     ]
    }
   ],
   "source": [
    "# Counts\n",
    "print('Number of nodes of odd degree: {}'.format(len(nodes_odd_degree)))\n",
    "print('Number of total nodes: {}'.format(len(MG.nodes())))"
   ]
  },
  {
   "cell_type": "markdown",
   "id": "745b1bca",
   "metadata": {},
   "source": [
    "## CPP Step 2: Find Min Distance Pairs"
   ]
  },
  {
   "cell_type": "markdown",
   "id": "6d522f47",
   "metadata": {},
   "source": [
    "1. Compute all possible pairs of odd degree nodes.\n",
    "\n",
    "2. Compute the shortest path between each node pair calculated in **1.**\n",
    "\n",
    "3. Create a complete graph connecting every node pair in 1. with shortest path distance attributes calculated in **2.**\n",
    "\n",
    "4. Compute a minimum weight matching of the graph calculated in **3.** (This boils down to determining how to pair the odd nodes such that the sum of the distance between the pairs is as small as possible).\n",
    "\n",
    "5. Augment the original graph with the shortest paths between the node pairs calculated in **4.**"
   ]
  },
  {
   "cell_type": "markdown",
   "id": "50f18366",
   "metadata": {},
   "source": [
    "### Step 2.1: Compute Node Pairs/Couple"
   ]
  },
  {
   "cell_type": "code",
   "execution_count": 8,
   "id": "fac8eb8c",
   "metadata": {},
   "outputs": [
    {
     "data": {
      "text/plain": [
       "[(2, 3)]"
      ]
     },
     "execution_count": 8,
     "metadata": {},
     "output_type": "execute_result"
    }
   ],
   "source": [
    "# Compute all pairs of odd nodes. in a list of tuples\n",
    "odd_node_pairs = list(itertools.combinations(nodes_odd_degree, 2))\n",
    "\n",
    "# Preview pairs of odd degree nodes\n",
    "odd_node_pairs[0:10]"
   ]
  },
  {
   "cell_type": "code",
   "execution_count": 9,
   "id": "36c83f85",
   "metadata": {},
   "outputs": [
    {
     "name": "stdout",
     "output_type": "stream",
     "text": [
      "Number of pairs: 1\n"
     ]
    }
   ],
   "source": [
    "print('Number of pairs: {}'.format(len(odd_node_pairs)))"
   ]
  },
  {
   "cell_type": "markdown",
   "id": "ff7a6b5c",
   "metadata": {},
   "source": [
    "### Step 2.2: Compute Shortest Paths between Node Pairs/Couple"
   ]
  },
  {
   "cell_type": "code",
   "execution_count": 10,
   "id": "0151752a",
   "metadata": {},
   "outputs": [],
   "source": [
    "def get_shortest_paths_distances(graph, pairs, edge_weight_name):\n",
    "    \"\"\"Compute shortest distance between each pair of nodes in a graph.  Return a dictionary keyed on node pairs (tuples).\"\"\"\n",
    "    distances = {}\n",
    "    for pair in pairs:\n",
    "        distances[pair] = nx.dijkstra_path_length(graph, pair[0], pair[1], weight=edge_weight_name)\n",
    "    return distances"
   ]
  },
  {
   "cell_type": "code",
   "execution_count": 11,
   "id": "c380364b",
   "metadata": {},
   "outputs": [
    {
     "data": {
      "text/plain": [
       "{(2, 3): 107.72500000000001}"
      ]
     },
     "execution_count": 11,
     "metadata": {},
     "output_type": "execute_result"
    }
   ],
   "source": [
    "weight = lambda u, v, d: d[0]['length']\n",
    "\n",
    "# Compute shortest paths.  Return a dictionary with node pairs keys and a single value equal to shortest path distance.\n",
    "odd_node_pairs_shortest_paths = get_shortest_paths_distances(MG, odd_node_pairs, weight)\n",
    "\n",
    "# Preview with a bit of hack (there is no head/slice method for dictionaries).\n",
    "dict(list(odd_node_pairs_shortest_paths.items())[0:10])"
   ]
  },
  {
   "cell_type": "markdown",
   "id": "9e5f275e",
   "metadata": {},
   "source": [
    "### Step 2.3: Create Complete Graph"
   ]
  },
  {
   "cell_type": "code",
   "execution_count": 12,
   "id": "fbe3b5c5",
   "metadata": {},
   "outputs": [],
   "source": [
    "def create_complete_graph(pair_weights, flip_weights=True):\n",
    "    \"\"\"\n",
    "    Create a completely connected graph using a list of vertex pairs and the shortest path distances between them\n",
    "    Parameters:\n",
    "        pair_weights: list[tuple] from the output of get_shortest_paths_distances\n",
    "        flip_weights: Boolean. Should we negate the edge attribute in pair_weights?\n",
    "    \"\"\"\n",
    "    g = nx.Graph()\n",
    "    for k, v in pair_weights.items():\n",
    "        wt_i = - v if flip_weights else v\n",
    "        #BECAREFUL: pass argument by argument instead of dict.\n",
    "        # DOCUMENTATION SUCK ASSES.\n",
    "        g.add_edge(k[0], k[1], distance=v, weight=wt_i)\n",
    "    return g"
   ]
  },
  {
   "cell_type": "code",
   "execution_count": 13,
   "id": "88995816",
   "metadata": {},
   "outputs": [
    {
     "name": "stdout",
     "output_type": "stream",
     "text": [
      "Number of nodes: 2\n",
      "Number of edges: 1\n"
     ]
    }
   ],
   "source": [
    "# Generate the complete graph\n",
    "g_odd_complete = create_complete_graph(odd_node_pairs_shortest_paths, flip_weights=True)\n",
    "\n",
    "# Counts\n",
    "print('Number of nodes: {}'.format(len(g_odd_complete.nodes())))\n",
    "print('Number of edges: {}'.format(len(g_odd_complete.edges())))"
   ]
  },
  {
   "cell_type": "code",
   "execution_count": 14,
   "id": "23cdd66e",
   "metadata": {},
   "outputs": [
    {
     "data": {
      "image/png": "[encoded data removed]",
      "text/plain": [
       "<Figure size 576x432 with 1 Axes>"
      ]
     },
     "metadata": {},
     "output_type": "display_data"
    }
   ],
   "source": [
    "# Plot the complete graph of odd-degree nodes\n",
    "plt.figure(figsize=(8, 6))\n",
    "pos_random = nx.random_layout(g_odd_complete)\n",
    "nx.draw_networkx_nodes(g_odd_complete, node_positions, node_size=20, node_color=\"red\")\n",
    "nx.draw_networkx_edges(g_odd_complete, node_positions, alpha=0.1)\n",
    "plt.axis('off')\n",
    "plt.title('Complete Graph of Odd-degree Nodes')\n",
    "plt.show()"
   ]
  },
  {
   "cell_type": "markdown",
   "id": "67ef48a7",
   "metadata": {},
   "source": [
    "### Step 2.4: Compute Minimum Weight Matching"
   ]
  },
  {
   "cell_type": "code",
   "execution_count": 15,
   "id": "bc38415c",
   "metadata": {},
   "outputs": [
    {
     "name": "stdout",
     "output_type": "stream",
     "text": [
      "Number of edges in matching: 1\n"
     ]
    }
   ],
   "source": [
    "# Compute min weight matching.\n",
    "# Note: max_weight_matching uses the 'weight' attribute by default as the attribute to maximize.\n",
    "odd_matching = list(nx.algorithms.max_weight_matching(g_odd_complete, True))\n",
    "\n",
    "print('Number of edges in matching: {}'.format(len(odd_matching)))"
   ]
  },
  {
   "cell_type": "code",
   "execution_count": 16,
   "id": "6c67ce35",
   "metadata": {},
   "outputs": [
    {
     "data": {
      "text/plain": [
       "[(2, 3)]"
      ]
     },
     "execution_count": 16,
     "metadata": {},
     "output_type": "execute_result"
    }
   ],
   "source": [
    "# Preview of matching\n",
    "odd_matching"
   ]
  },
  {
   "cell_type": "code",
   "execution_count": 17,
   "id": "b414fb0b",
   "metadata": {},
   "outputs": [
    {
     "data": {
      "image/png": "[encoded data removed]",
      "text/plain": [
       "<Figure size 576x432 with 1 Axes>"
      ]
     },
     "metadata": {},
     "output_type": "display_data"
    }
   ],
   "source": [
    "plt.figure(figsize=(8, 6))\n",
    "\n",
    "# Plot the complete graph of odd-degree nodes\n",
    "nx.draw(g_odd_complete, pos=node_positions, node_size=20, alpha=0.05)\n",
    "\n",
    "# Create a new graph to overlay on g_odd_complete with just the edges from the min weight matching\n",
    "g_odd_complete_min_edges = nx.Graph(odd_matching)\n",
    "nx.draw(g_odd_complete_min_edges, pos=node_positions, node_size=20, edge_color='blue', node_color='red')\n",
    "\n",
    "plt.title('Min Weight Matching on Complete Graph')\n",
    "plt.show()"
   ]
  },
  {
   "cell_type": "code",
   "execution_count": 18,
   "id": "29401d2c",
   "metadata": {},
   "outputs": [
    {
     "data": {
      "image/png": "[encoded data removed]",
      "text/plain": [
       "<Figure size 576x432 with 1 Axes>"
      ]
     },
     "metadata": {},
     "output_type": "display_data"
    }
   ],
   "source": [
    "plt.figure(figsize=(8, 6))\n",
    "\n",
    "# Plot the original trail map graph\n",
    "nx.draw(MG, pos=node_positions, node_size=20, alpha=0.1, node_color='black')\n",
    "\n",
    "# Plot graph to overlay with just the edges from the min weight matching\n",
    "nx.draw(g_odd_complete_min_edges, pos=node_positions, node_size=20, alpha=1, node_color='red', edge_color='blue')\n",
    "\n",
    "plt.title('Min Weight Matching on Orginal Graph')\n",
    "plt.show()"
   ]
  },
  {
   "cell_type": "markdown",
   "id": "6e9cc711",
   "metadata": {},
   "source": [
    "### Step 2.5: Augment the Original Graph"
   ]
  },
  {
   "cell_type": "code",
   "execution_count": 19,
   "id": "14f8e45b",
   "metadata": {},
   "outputs": [],
   "source": [
    "def add_augmenting_path_to_graph(graph, min_weight_pairs):\n",
    "    \"\"\"\n",
    "    Add the min weight matching edges to the original graph\n",
    "    Parameters:\n",
    "        graph: NetworkX graph (original graph from trailmap)\n",
    "        min_weight_pairs: list[tuples] of node pairs from min weight matching\n",
    "    Returns:\n",
    "        augmented NetworkX graph\n",
    "    \"\"\"\n",
    "\n",
    "    # We need to make the augmented graph a MultiGraph so we can add parallel edges\n",
    "    graph_aug = nx.MultiGraph(graph.copy())\n",
    "    for pair in min_weight_pairs:\n",
    "        graph_aug.add_edge(pair[0],\n",
    "                           pair[1],\n",
    "                           **{'length': nx.dijkstra_path_length(graph, pair[0], pair[1], weight=\"length\"),\n",
    "                                      'trail': 'augmented'}\n",
    "                          )\n",
    "    return graph_aug"
   ]
  },
  {
   "cell_type": "code",
   "execution_count": 20,
   "id": "b1d3ae21",
   "metadata": {},
   "outputs": [
    {
     "name": "stdout",
     "output_type": "stream",
     "text": [
      "Number of edges in original graph: 7\n",
      "Number of edges in augmented graph: 8\n"
     ]
    }
   ],
   "source": [
    "# Create augmented graph: add the min weight matching edges to g\n",
    "g_aug = add_augmenting_path_to_graph(MG, odd_matching)\n",
    "\n",
    "# Counts\n",
    "print('Number of edges in original graph: {}'.format(len(MG.edges())))\n",
    "print('Number of edges in augmented graph: {}'.format(len(g_aug.edges())))"
   ]
  },
  {
   "cell_type": "code",
   "execution_count": 21,
   "id": "2142f145",
   "metadata": {},
   "outputs": [
    {
     "name": "stdout",
     "output_type": "stream",
     "text": [
      "{2: 4, 4: 2}\n"
     ]
    }
   ],
   "source": [
    "d = {}\n",
    "for e in dict(g_aug.degree()).values():\n",
    "    if e not in d:\n",
    "        d[e] = 1\n",
    "    else:\n",
    "        d[e] += 1\n",
    "print(d)"
   ]
  },
  {
   "cell_type": "code",
   "execution_count": 22,
   "id": "450931cb",
   "metadata": {},
   "outputs": [
    {
     "name": "stdout",
     "output_type": "stream",
     "text": [
      "(0, 1, {'osmid': 27166466, 'oneway': True, 'name': 'Mason Street', 'highway': 'residential', 'length': 107.41299999999998, 'geometry': <shapely.geometry.linestring.LineString object at 0x7f2aab979828>, 'from': 0, 'to': 1})\n",
      "-----\n",
      "(0, 3, {'osmid': 674757876, 'name': 'California Street', 'highway': 'tertiary', 'oneway': False, 'length': 142.02499999999998, 'geometry': <shapely.geometry.linestring.LineString object at 0x7f2aabafbb70>, 'from': 3, 'to': 0})\n",
      "-----\n",
      "(1, 2, {'osmid': 502795940, 'oneway': True, 'lanes': '2', 'name': 'Pine Street', 'highway': 'secondary', 'maxspeed': '30 mph', 'length': 141.957, 'geometry': <shapely.geometry.linestring.LineString object at 0x7f2aabafba20>, 'from': 2, 'to': 1})\n",
      "-----\n",
      "(2, 3, {'osmid': 674757881, 'oneway': True, 'name': 'Powell Street', 'highway': 'tertiary', 'maxspeed': '25 mph', 'length': 107.72500000000001, 'geometry': <shapely.geometry.linestring.LineString object at 0x7f2aabafbba8>, 'from': 3, 'to': 2})\n",
      "-----\n",
      "(2, 3, {'length': 107.72500000000001, 'trail': 'augmented'})\n",
      "-----\n"
     ]
    }
   ],
   "source": [
    "for i, e in enumerate(g_aug.edges(data=True)):\n",
    "    if i < 5:\n",
    "        print(e)\n",
    "        print('-----')"
   ]
  },
  {
   "cell_type": "markdown",
   "id": "b8ae454c",
   "metadata": {},
   "source": [
    "## CPP Step 3: Compute Eulerian Circuit"
   ]
  },
  {
   "cell_type": "markdown",
   "id": "764f338f",
   "metadata": {},
   "source": [
    "If the graph is not eulerian, augmented with the edges we found during the min weight matching."
   ]
  },
  {
   "cell_type": "code",
   "execution_count": 23,
   "id": "18dbf660",
   "metadata": {},
   "outputs": [],
   "source": [
    "def create_eulerian_circuit(graph_augmented, graph_original, starting_node=None):\n",
    "    \"\"\"Create the eulerian path using only edges from the original graph.\"\"\"\n",
    "    euler_circuit = []\n",
    "    naive_circuit = list(nx.eulerian_circuit(graph_augmented, source=starting_node))\n",
    "    \n",
    "    for edge in naive_circuit:\n",
    "        edge_data = graph_augmented.get_edge_data(edge[0], edge[1])    \n",
    "          \n",
    "        if edge_data[0]['length'] != 'augmented':\n",
    "            # If `edge` exists in original graph, grab the edge attributes and add to eulerian circuit.\n",
    "            edge_att = graph_original[edge[0]][edge[1]]\n",
    "            euler_circuit.append((edge[0], edge[1], edge_att))\n",
    "        else:\n",
    "            aug_path = nx.shortest_path(graph_original, edge[0], edge[1], weight='length')\n",
    "            aug_path_pairs = list(zip(aug_path[:-1], aug_path[1:]))\n",
    "\n",
    "            print('Filling in edges for augmented edge: {}'.format(edge))\n",
    "            print('Augmenting path: {}'.format(' => '.join(aug_path)))\n",
    "            print('Augmenting path pairs: {}\\n'.format(aug_path_pairs))\n",
    "\n",
    "            # If `edge` does not exist in original graph, find the shortest path between its nodes and\n",
    "            #  add the edge attributes for each link in the shortest path.\n",
    "            for edge_aug in aug_path_pairs:\n",
    "                edge_aug_att = graph_original[edge_aug[0]][edge_aug[1]]\n",
    "                euler_circuit.append((edge_aug[0], edge_aug[1], edge_aug_att))\n",
    "\n",
    "    return euler_circuit"
   ]
  },
  {
   "cell_type": "code",
   "execution_count": 24,
   "id": "4faf7ed0",
   "metadata": {},
   "outputs": [],
   "source": [
    "# Create the Eulerian circuit\n",
    "euler_circuit = create_eulerian_circuit(g_aug, MG, 0)"
   ]
  },
  {
   "cell_type": "code",
   "execution_count": 25,
   "id": "2f9ffd85",
   "metadata": {},
   "outputs": [
    {
     "name": "stdout",
     "output_type": "stream",
     "text": [
      "Length of Eulerian circuit: 8\n"
     ]
    }
   ],
   "source": [
    "print('Length of Eulerian circuit: {}'.format(len(euler_circuit)))"
   ]
  },
  {
   "cell_type": "markdown",
   "id": "3374daa5",
   "metadata": {},
   "source": [
    "### CPP Solution"
   ]
  },
  {
   "cell_type": "code",
   "execution_count": 26,
   "id": "cf545fe0",
   "metadata": {},
   "outputs": [
    {
     "name": "stdout",
     "output_type": "stream",
     "text": [
      "0 (0, 3, AtlasView({0: {'osmid': 674757876, 'name': 'California Street', 'highway': 'tertiary', 'oneway': False, 'length': 142.02499999999998, 'geometry': <shapely.geometry.linestring.LineString object at 0x7f2aabafbb70>, 'from': 3, 'to': 0}}))\n",
      "1 (3, 4, AtlasView({0: {'osmid': 100400946, 'name': 'California Street', 'highway': 'tertiary', 'oneway': False, 'length': 8.228, 'geometry': <shapely.geometry.linestring.LineString object at 0x7f2aabafbc18>, 'from': 4, 'to': 3}}))\n",
      "2 (4, 5, AtlasView({0: {'osmid': 674757885, 'oneway': True, 'name': 'Powell Street', 'highway': 'tertiary', 'maxspeed': '25 mph', 'length': 107.75699999999999, 'geometry': <shapely.geometry.linestring.LineString object at 0x7f2aabafbc88>, 'from': 5, 'to': 4}}))\n",
      "3 (5, 2, AtlasView({0: {'osmid': 674757877, 'oneway': True, 'lanes': '2', 'name': 'Pine Street', 'highway': 'secondary', 'maxspeed': '30 mph', 'length': 8.222999999999999, 'geometry': <shapely.geometry.linestring.LineString object at 0x7f2aabafbcf8>, 'from': 5, 'to': 2}}))\n",
      "4 (2, 3, AtlasView({0: {'osmid': 674757881, 'oneway': True, 'name': 'Powell Street', 'highway': 'tertiary', 'maxspeed': '25 mph', 'length': 107.72500000000001, 'geometry': <shapely.geometry.linestring.LineString object at 0x7f2aabafbba8>, 'from': 3, 'to': 2}}))\n",
      "5 (3, 2, AtlasView({0: {'osmid': 674757881, 'oneway': True, 'name': 'Powell Street', 'highway': 'tertiary', 'maxspeed': '25 mph', 'length': 107.72500000000001, 'geometry': <shapely.geometry.linestring.LineString object at 0x7f2aabafbba8>, 'from': 3, 'to': 2}}))\n",
      "6 (2, 1, AtlasView({0: {'osmid': 502795940, 'oneway': True, 'lanes': '2', 'name': 'Pine Street', 'highway': 'secondary', 'maxspeed': '30 mph', 'length': 141.957, 'geometry': <shapely.geometry.linestring.LineString object at 0x7f2aabafba20>, 'from': 2, 'to': 1}}))\n",
      "7 (1, 0, AtlasView({0: {'osmid': 27166466, 'oneway': True, 'name': 'Mason Street', 'highway': 'residential', 'length': 107.41299999999998, 'geometry': <shapely.geometry.linestring.LineString object at 0x7f2aab979828>, 'from': 0, 'to': 1}}))\n"
     ]
    }
   ],
   "source": [
    "for i, edge in enumerate(euler_circuit[0:20]):\n",
    "    print(i, edge)"
   ]
  },
  {
   "cell_type": "markdown",
   "id": "2f9986bb",
   "metadata": {},
   "source": [
    "## Stats"
   ]
  },
  {
   "cell_type": "code",
   "execution_count": 27,
   "id": "ccd7a6da",
   "metadata": {},
   "outputs": [
    {
     "name": "stdout",
     "output_type": "stream",
     "text": [
      "Mileage of circuit: 731.05\n",
      "Mileage on original trail map: 623.33\n",
      "Mileage retracing edges: 107.73\n",
      "Percent of mileage retraced: 17.28%\n",
      "\n",
      "Number of edges in circuit: 8\n",
      "Number of edges in original graph: 7\n",
      "Number of nodes in original graph: 6\n",
      "\n",
      "Number of edges traversed more than once: 1\n",
      "\n",
      "Number of times visiting each node:\n",
      " n_visits  n_nodes\n",
      "        1        4\n",
      "        2        2\n",
      "\n",
      "Number of times visiting each edge:\n",
      " n_visits  n_edges\n",
      "        2        3\n",
      "        1        2\n"
     ]
    }
   ],
   "source": [
    "# Computing some stats\n",
    "total_mileage_of_circuit = sum([edge[2][0]['length'] for edge in euler_circuit])\n",
    "total_mileage_on_orig_trail_map = sum(nx.get_edge_attributes(MG, 'length').values())\n",
    "_vcn = pd.value_counts(pd.value_counts([(e[0]) for e in euler_circuit]), sort=False)\n",
    "node_visits = pd.DataFrame({'n_visits': _vcn.index, 'n_nodes': _vcn.values})\n",
    "_vce = pd.value_counts(pd.value_counts([sorted(e)[0] + sorted(e)[1] for e in nx.MultiDiGraph(euler_circuit).edges()]))\n",
    "edge_visits = pd.DataFrame({'n_visits': _vce.index, 'n_edges': _vce.values})\n",
    "\n",
    "# Printing stats\n",
    "print('Mileage of circuit: {0:.2f}'.format(total_mileage_of_circuit))\n",
    "print('Mileage on original trail map: {0:.2f}'.format(total_mileage_on_orig_trail_map))\n",
    "print('Mileage retracing edges: {0:.2f}'.format(total_mileage_of_circuit-total_mileage_on_orig_trail_map))\n",
    "print('Percent of mileage retraced: {0:.2f}%\\n'.format((1-total_mileage_of_circuit/total_mileage_on_orig_trail_map)*-100))\n",
    "\n",
    "print('Number of edges in circuit: {}'.format(len(euler_circuit)))\n",
    "print('Number of edges in original graph: {}'.format(len(MG.edges())))\n",
    "print('Number of nodes in original graph: {}\\n'.format(len(MG.nodes())))\n",
    "\n",
    "print('Number of edges traversed more than once: {}\\n'.format(len(euler_circuit)-len(MG.edges())))  \n",
    "\n",
    "print('Number of times visiting each node:')\n",
    "print(node_visits.to_string(index=False))\n",
    "\n",
    "print('\\nNumber of times visiting each edge:')\n",
    "print(edge_visits.to_string(index=False))"
   ]
  },
  {
   "cell_type": "markdown",
   "id": "76c6898e",
   "metadata": {},
   "source": [
    "# IV/ Visualize CPP Solution"
   ]
  },
  {
   "cell_type": "code",
   "execution_count": 28,
   "id": "268ab854",
   "metadata": {},
   "outputs": [],
   "source": [
    "def create_cpp_edgelist(euler_circuit):\n",
    "    \"\"\"\n",
    "    Create the edgelist without parallel edge for the visualization\n",
    "    Combine duplicate edges and keep track of their sequence and # of walks\n",
    "    Parameters:\n",
    "        euler_circuit: list[tuple] from create_eulerian_circuit\n",
    "    \"\"\"\n",
    "    cpp_edgelist = {}\n",
    "\n",
    "    for i, e in enumerate(euler_circuit):\n",
    "        edge = frozenset([e[0], e[1]])\n",
    "\n",
    "        if edge in cpp_edgelist:\n",
    "            cpp_edgelist[edge][2][0]['sequence'] += ', ' + str(i)\n",
    "            cpp_edgelist[edge][2][0]['visits'] += 1\n",
    "\n",
    "        else:\n",
    "            cpp_edgelist[edge] = e\n",
    "            cpp_edgelist[edge][2][0]['sequence'] = str(i)\n",
    "            cpp_edgelist[edge][2][0]['visits'] = 1\n",
    "\n",
    "    return list(cpp_edgelist.values())"
   ]
  },
  {
   "cell_type": "code",
   "execution_count": 29,
   "id": "a2d6922a",
   "metadata": {},
   "outputs": [],
   "source": [
    "cpp_edgelist = create_cpp_edgelist(euler_circuit)"
   ]
  },
  {
   "cell_type": "code",
   "execution_count": 30,
   "id": "c7ca386d",
   "metadata": {},
   "outputs": [
    {
     "name": "stdout",
     "output_type": "stream",
     "text": [
      "Number of edges in CPP edge list: 7\n"
     ]
    }
   ],
   "source": [
    "print('Number of edges in CPP edge list: {}'.format(len(cpp_edgelist)))"
   ]
  },
  {
   "cell_type": "code",
   "execution_count": 31,
   "id": "7911c170",
   "metadata": {},
   "outputs": [
    {
     "data": {
      "text/plain": [
       "[(0,\n",
       "  3,\n",
       "  AtlasView({0: {'osmid': 674757876, 'name': 'California Street', 'highway': 'tertiary', 'oneway': False, 'length': 142.02499999999998, 'geometry': <shapely.geometry.linestring.LineString object at 0x7f2aabafbb70>, 'from': 3, 'to': 0, 'sequence': '0', 'visits': 1}})),\n",
       " (3,\n",
       "  4,\n",
       "  AtlasView({0: {'osmid': 100400946, 'name': 'California Street', 'highway': 'tertiary', 'oneway': False, 'length': 8.228, 'geometry': <shapely.geometry.linestring.LineString object at 0x7f2aabafbc18>, 'from': 4, 'to': 3, 'sequence': '1', 'visits': 1}})),\n",
       " (4,\n",
       "  5,\n",
       "  AtlasView({0: {'osmid': 674757885, 'oneway': True, 'name': 'Powell Street', 'highway': 'tertiary', 'maxspeed': '25 mph', 'length': 107.75699999999999, 'geometry': <shapely.geometry.linestring.LineString object at 0x7f2aabafbc88>, 'from': 5, 'to': 4, 'sequence': '2', 'visits': 1}}))]"
      ]
     },
     "execution_count": 31,
     "metadata": {},
     "output_type": "execute_result"
    }
   ],
   "source": [
    "cpp_edgelist[0:3]"
   ]
  },
  {
   "cell_type": "code",
   "execution_count": 32,
   "id": "93655a1b",
   "metadata": {},
   "outputs": [],
   "source": [
    "# Create CPP solution graph\n",
    "g_cpp = nx.Graph(cpp_edgelist)"
   ]
  },
  {
   "cell_type": "markdown",
   "id": "2c26bc3a",
   "metadata": {},
   "source": [
    "## Visualization 1: Retracing Steps"
   ]
  },
  {
   "cell_type": "code",
   "execution_count": 33,
   "id": "41c62bdb",
   "metadata": {},
   "outputs": [
    {
     "data": {
      "image/png": "[encoded data removed]",
      "text/plain": [
       "<Figure size 1008x720 with 1 Axes>"
      ]
     },
     "metadata": {},
     "output_type": "display_data"
    }
   ],
   "source": [
    "plt.figure(figsize=(14, 10))\n",
    "\n",
    "visit_colors = {1:'lightgray', 2:'blue'}\n",
    "edge_colors = [visit_colors[e[2][0]['visits']] for e in g_cpp.edges(data=True)]\n",
    "node_colors = ['red'  if node in nodes_odd_degree else 'lightgray' for node in g_cpp.nodes()]\n",
    "\n",
    "nx.draw_networkx(g_cpp, pos=node_positions, node_size=20, node_color=node_colors, edge_color=edge_colors, with_labels=False)\n",
    "plt.axis('off')\n",
    "plt.show()"
   ]
  },
  {
   "cell_type": "markdown",
   "id": "694ff504",
   "metadata": {},
   "source": [
    "## Visualization 3: Movie"
   ]
  },
  {
   "cell_type": "code",
   "execution_count": 40,
   "id": "3a265d3b",
   "metadata": {},
   "outputs": [],
   "source": [
    "visit_colors = {1:'black', 2:'red'}\n",
    "edge_cnter = {}\n",
    "g_i_edge_colors = []\n",
    "for i, e in enumerate(euler_circuit, start=1):\n",
    "\n",
    "    edge = frozenset([e[0], e[1]])\n",
    "    if edge in edge_cnter:\n",
    "        edge_cnter[edge] += 1\n",
    "    else:\n",
    "        edge_cnter[edge] = 1\n",
    "\n",
    "    # Full graph (faded in background)\n",
    "    nx.draw_networkx(g_cpp, pos=node_positions, node_size=6, node_color='gray', with_labels=False, alpha=0.07)\n",
    "\n",
    "    # Edges walked as of iteration i\n",
    "    euler_circuit_i = copy.deepcopy(euler_circuit[0:i])\n",
    "    for i in range(len(euler_circuit_i)):\n",
    "        edge_i = frozenset([euler_circuit_i[i][0], euler_circuit_i[i][1]])\n",
    "        euler_circuit_i[i][2][0]['visits_i'] = edge_cnter[edge_i]\n",
    "    g_i = nx.Graph(euler_circuit_i)\n",
    "    g_i_edge_colors = [visit_colors[e[2][0]['visits_i']] for e in g_i.edges(data=True)]\n",
    "\n",
    "    #nx.draw_networkx_nodes(g_i, pos=node_positions, node_size=6, alpha=0.6, node_color='lightgray', with_labels=False, linewidths=0.1)\n",
    "    nx.draw_networkx_nodes(g_i, pos=node_positions, node_size=6, alpha=0.6, node_color='lightgray', linewidths=0.1)\n",
    "    nx.draw_networkx_edges(g_i, pos=node_positions, edge_color=g_i_edge_colors, alpha=0.8)\n",
    "\n",
    "    plt.axis('off')\n",
    "    plt.savefig('fig/png/img{}.png'.format(i), dpi=120, bbox_inches='tight')\n",
    "    plt.close()"
   ]
  },
  {
   "cell_type": "code",
   "execution_count": 41,
   "id": "2d43e162",
   "metadata": {},
   "outputs": [],
   "source": [
    "import glob\n",
    "import numpy as np\n",
    "import imageio\n",
    "import os\n",
    "\n",
    "def make_circuit_video(image_path, movie_filename, fps=5):\n",
    "    # sorting filenames in order\n",
    "    filenames = glob.glob(image_path + 'img*.png')\n",
    "    filenames_sort_indices = np.argsort([int(os.path.basename(filename).split('.')[0][3:]) for filename in filenames])\n",
    "    filenames = [filenames[i] for i in filenames_sort_indices]\n",
    "\n",
    "    # make movie\n",
    "    with imageio.get_writer(movie_filename, mode='I', fps=fps) as writer:\n",
    "        for filename in filenames:\n",
    "            image = imageio.imread(filename)\n",
    "            writer.append_data(image)\n",
    "\n",
    "make_circuit_video('fig/png/', 'fig/gif/cpp_route_animation.gif', fps=3)"
   ]
  },
  {
   "cell_type": "code",
   "execution_count": null,
   "id": "61bbbb78",
   "metadata": {},
   "outputs": [],
   "source": []
  }
 ],
 "metadata": {
  "kernelspec": {
   "display_name": "ero-env",
   "language": "python",
   "name": "ero-env"
  },
  "language_info": {
   "codemirror_mode": {
    "name": "ipython",
    "version": 3
   },
   "file_extension": ".py",
   "mimetype": "text/x-python",
   "name": "python",
   "nbconvert_exporter": "python",
   "pygments_lexer": "ipython3",
   "version": "3.6.9"
  }
 },
 "nbformat": 4,
 "nbformat_minor": 5
}
